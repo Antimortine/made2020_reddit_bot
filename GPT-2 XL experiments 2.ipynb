{
 "cells": [
  {
   "cell_type": "code",
   "execution_count": 1,
   "metadata": {},
   "outputs": [],
   "source": [
    "import torch\n",
    "from transformers import GPT2LMHeadModel, GPT2Tokenizer"
   ]
  },
  {
   "cell_type": "code",
   "execution_count": 2,
   "metadata": {},
   "outputs": [
    {
     "data": {
      "text/plain": [
       "device(type='cuda', index=0)"
      ]
     },
     "execution_count": 2,
     "metadata": {},
     "output_type": "execute_result"
    }
   ],
   "source": [
    "device = torch.device('cuda:0') if torch.cuda.is_available() else torch.device('cpu')\n",
    "device"
   ]
  },
  {
   "cell_type": "code",
   "execution_count": 3,
   "metadata": {},
   "outputs": [],
   "source": [
    "tokenizer = GPT2Tokenizer.from_pretrained('gpt2-xl')"
   ]
  },
  {
   "cell_type": "code",
   "execution_count": 4,
   "metadata": {},
   "outputs": [],
   "source": [
    "model = GPT2LMHeadModel.from_pretrained('gpt2-xl', pad_token_id=tokenizer.eos_token_id)\n",
    "model.to(device);"
   ]
  },
  {
   "cell_type": "code",
   "execution_count": 110,
   "metadata": {},
   "outputs": [],
   "source": [
    "import re\n",
    "\n",
    "stop_pattern = re.compile(r'[A-Z]:|\\n\\n')\n",
    "end_punc = {'.', '!', '?'}\n",
    "\n",
    "\n",
    "def cleanse_answer(answer):\n",
    "    match = stop_pattern.search(answer)\n",
    "    stop_position = match.start() if match else len(answer)\n",
    "    answer = answer[:stop_position]\n",
    "    if set(answer) & end_punc:\n",
    "        end_index = len(answer) - 1\n",
    "        while answer[end_index] not in end_punc:\n",
    "            end_index -= 1\n",
    "        answer = answer[:end_index + 1]\n",
    "    return answer.strip()\n",
    "\n",
    "\n",
    "def decode_answer(model_output, input_text_len):\n",
    "    answer = tokenizer.decode(model_output, skip_special_tokens=True)[input_text_len:]\n",
    "    return cleanse_answer(answer)\n",
    "\n",
    "\n",
    "def print_samples(question, top_p=0.5, top_k=None, temperature=15.0, num_beams=10,\n",
    "            repetition_penalty=None, no_repeat_ngram_size=4, num_return_sequences=1, repeat=5):\n",
    "    input_text = f'Q: {question} A:'\n",
    "    input_ids = tokenizer.encode(input_text)\n",
    "    input_ids = torch.tensor([input_ids]).to(device)\n",
    "    for _ in range(repeat):\n",
    "        sample_outputs = model.generate(\n",
    "            input_ids,\n",
    "            do_sample=True, \n",
    "            max_length=len(input_ids) + 175, \n",
    "            top_p=top_p, \n",
    "            top_k=top_k, \n",
    "            temperature=temperature,\n",
    "            num_beams=num_beams,\n",
    "            repetition_penalty=repetition_penalty,\n",
    "            no_repeat_ngram_size=no_repeat_ngram_size,\n",
    "            num_return_sequences=num_return_sequences,\n",
    "#             length_penalty=50.0\n",
    "        )\n",
    "        answers = sorted(map(lambda text: decode_answer(text, len(input_text)), sample_outputs),\n",
    "                         key=len, reverse=True)\n",
    "        for answer in answers:\n",
    "            print(answer)\n",
    "            print('**********\\n')"
   ]
  },
  {
   "cell_type": "code",
   "execution_count": 111,
   "metadata": {},
   "outputs": [
    {
     "name": "stdout",
     "output_type": "stream",
     "text": [
      "I don't know, I've never been able to describe it. I've had a lot of weird things, but I've never had anything that was so gross that it made you want to vomit.\n",
      "**********\n",
      "\n",
      "I don't know, I've had some really gross things in my life, like a dead rat, a dead mouse, a dead bird, a dead snake. I've had a lot of things that were just gross, but I don't think I've ever had a thing that was so gross that it was disgusting.\n",
      "**********\n",
      "\n",
      "I don't know. I don't really eat anything that's gross. I guess it would be the most disgusting thing I've ever tasted would be something that's really bad. I've never had anything that was so bad that it was disgusting, but it's not really a question of if it's gross, but how bad it is. I've had a lot of things that were really bad, but I don't think I've ever had something that was really bad that I didn't enjoy.\n",
      "**********\n",
      "\n",
      "I don't know, I've had some pretty disgusting things in my life. I've had a lot of stuff that was really gross. But the worst was when my mother was dying. I remember her telling me, 'I'm going to be dead soon. I'm going to die. I don't care. I'm not going to be here anymore.' I don't remember anything else. I was just like, 'I don't care.' And then I woke up in a hospital. And I was in a hospital bed. And I had no idea what was going on. And I remember my mother was in the hospital and she was in the bed next to me. I was like, 'Mom, I'm sorry.\n",
      "**********\n",
      "\n",
      "I think it was a piece of meat that I was given to eat.\n",
      "**********\n",
      "\n"
     ]
    }
   ],
   "source": [
    "print_samples(\"\"\"What's the grossest thing you've ever tasted?\"\"\")"
   ]
  },
  {
   "cell_type": "code",
   "execution_count": 112,
   "metadata": {},
   "outputs": [
    {
     "name": "stdout",
     "output_type": "stream",
     "text": [
      "I would have the ability to control the weather, I think that would be cool.\n",
      "**********\n",
      "\n",
      "I would have the ability to fly.\n",
      "**********\n",
      "\n",
      "I would have the ability to control the weather.\n",
      "**********\n",
      "\n",
      "I would have the ability to see through walls.\n",
      "**********\n",
      "\n",
      "I would have super strength. I would be able to do anything I want.\n",
      "**********\n",
      "\n"
     ]
    }
   ],
   "source": [
    "print_samples(\"\"\"If you could have 1 superpower what would it be and why?\"\"\")"
   ]
  },
  {
   "cell_type": "code",
   "execution_count": 113,
   "metadata": {},
   "outputs": [
    {
     "name": "stdout",
     "output_type": "stream",
     "text": [
      "Nothing really, I just like to play games and talk about games. I don't really have any plans for the future, but I'm always up for new games.\n",
      "**********\n",
      "\n",
      "Just trying to stay out of trouble. I don't want to be a burden to my family.\n",
      "**********\n",
      "\n",
      "Nothing, I just need to relax and read some books.\n",
      "**********\n",
      "\n",
      "Nothing really. I've got a lot going on, and I'm not sure if I'll have the time to do it all in the next few weeks.\n",
      "**********\n",
      "\n",
      "Just reading the news, I'm sure I'll get a lot of interesting stuff. I don't know what to do with my time though, I've got a lot of things I want to do. I'm not sure what I should do, but I'll keep trying.\n",
      "**********\n",
      "\n"
     ]
    }
   ],
   "source": [
    "print_samples(\"\"\"Is there anything you should be doing right now, but you're wasting your time on reddit instead? If so, what is it?\"\"\")"
   ]
  },
  {
   "cell_type": "code",
   "execution_count": 114,
   "metadata": {},
   "outputs": [
    {
     "name": "stdout",
     "output_type": "stream",
     "text": [
      "I don't know if it's scary or not. I'm not really scared. I just like the idea that there are things that are out there that are not supposed to be there. I think that's the most scary part of it.\n",
      "**********\n",
      "\n",
      "I have a theory that the government has been experimenting on the populace with mind-altering drugs for a long time, and that they are using them on us to keep us in a constant state of fear. I'm not saying that this is true, but it is something that I have heard from a few different people.\n",
      "**********\n",
      "\n",
      "I'm not sure. I have a lot of ideas, but I don't want to give them away. I'm afraid that if I tell you what I think they are I'll just get a lot of hate mail.\n",
      "**********\n",
      "\n",
      "I have a theory that the world will end on September 23rd, 2012. I think that's a pretty good date. I'm not sure if it's a good date for the end of the world, but I'm pretty sure it's a date that's going to happen.\n",
      "**********\n",
      "\n",
      "I don't know if I have a scary theory. I think the most frightening thing is that there's a lot of things we can do that we're not aware of, that we don't understand, that we can't control. I think that's what's really scary about the universe, is that we can do so many things and it's so unpredictable, and we don't even know what's happening.\n",
      "**********\n",
      "\n"
     ]
    }
   ],
   "source": [
    "print_samples(\"\"\"What is the scariest/creepiest theory you know about?\"\"\")"
   ]
  },
  {
   "cell_type": "code",
   "execution_count": 115,
   "metadata": {},
   "outputs": [
    {
     "name": "stdout",
     "output_type": "stream",
     "text": [
      "I don't know if there is a market, but I think that the assassins are the only ones that can afford the high prices they get for their work. They have to make sure they get the best deals, and they have to be able to pay for it all in one go. If you're not able to pay, then the job is done. I think that's the only way to make sure you get the best deal.\n",
      "**********\n",
      "\n",
      "The world of John Wick is a world where everyone is an assassin. This means there are a wide variety of people and organizations who are willing to kill for a price, but the only people who can afford to pay the highest prices are the ones with the best skills. This is why there are so many different assassins in the world, because the best assassins can afford the most expensive and dangerous jobs, while the rest are forced to settle for the most basic jobs.\n",
      "**********\n",
      "\n",
      "There is no shortage of assassins in the world. The only problem is that there are too many of them. The only thing that keeps the price of a kill down is the number of people willing to pay. If there were only one assassin in the world, the price of his services would be astronomical. The only reason that the price is kept down is because of the fact that there are a lot of assassins. The world is a market. If there was no competition, the prices of everything would be the same.\n",
      "**********\n",
      "\n",
      "There is no shortage of assassins in John Wick. There is only one buyer, and that buyer is John Wick. He is a man who has made his living by taking lives, and he is willing to pay the price to do it. The only way to get a better price is to be more efficient, and to do that you have to know what you are looking for and how to find it. You have to be a master of your craft, and that is what John Wick is, a master of his craft.\n",
      "**********\n",
      "\n",
      "I don't think that's a question that needs to be asked, but I'll answer it anyway: The assassins are the only ones who can make deals. There's no one else who can do that, so they have to. They have to make deals with the people who are willing to pay a lot for something. They can't just go out and get it for free, because they're not the ones who can afford it. So, they have to get it for a price, and the only way they can do that is by making deals with people.\n",
      "**********\n",
      "\n"
     ]
    }
   ],
   "source": [
    "print_samples(\"\"\"In the John Wick universe, assassins are shown to be everyone and everywhere, thus indicating a buyer's market. What limited time deals and offers do assassins provide to out price the competition? How does the economics of the world operate with so many trained killers?\"\"\")"
   ]
  },
  {
   "cell_type": "code",
   "execution_count": 116,
   "metadata": {},
   "outputs": [
    {
     "name": "stdout",
     "output_type": "stream",
     "text": [
      "I like the one with the prostitute. I think that was a good scene.\n",
      "**********\n",
      "\n",
      "I love the scene in the Book of Numbers when Moses is talking to the Lord and he says, 'I am the Lord, and I will do all these words that you have spoken.' And the Lord said, 'You are a prophet, but not all of you are prophets. I will put some of you in the palm of my hand, but you will not go out of my hand.' And I said to him, 'Lord, I am not worthy that you should put any of us into the hand of the Egyptians.' And he said, 'Go, and do you come to Pharaoh, and he will let you go.\n",
      "**********\n",
      "\n",
      "I think the most erotic scene in the bible is the one in Genesis where God and Adam and Eve are in the Garden of Eden and God is telling them that he wants them to eat from the Tree of Knowledge. I think it's the most erotic. I don't think there's any sex scene that I don't like.\n",
      "**********\n",
      "\n",
      "The one with the prostitute. I love that one.\n",
      "**********\n",
      "\n",
      "I don't have one. I don't think there's one. I think there are some good scenes in the Bible, but I don't know that there's a favorite.\n",
      "**********\n",
      "\n"
     ]
    }
   ],
   "source": [
    "print_samples(\"\"\"What is you favorite sex scene in the Bible?\"\"\")"
   ]
  },
  {
   "cell_type": "code",
   "execution_count": 117,
   "metadata": {},
   "outputs": [
    {
     "name": "stdout",
     "output_type": "stream",
     "text": [
      "I'm not sure if there is a website that I use that is underrated. I use a lot of sites that I've never heard of. I've never used a site like that before, so it's kind of a new thing for me. I use sites that I think are really good, and I think that they're underrated because they don't have a huge following. I think that's the biggest thing. I think there's a lot of websites that I don't use because I don't know about them. I don't think that I'm going to be able to use a website that's not on the list, but I think there are a lot of good websites that I haven't used.\n",
      "**********\n",
      "\n",
      "I've used a lot of sites to help me with my business, and I'm not sure I'd use them all the time. I use a few sites that I think are underrated, and I use them to help me stay organized and make sure I'm doing things right. I use the sites to help keep my business organized, and to make sure I have a clear vision of what I want to do. I also use them to keep track of what's going on with my business and to keep my customers up-to-date on what I'm doing.\n",
      "**********\n",
      "\n",
      "I am not sure if I have any \"underrated\" websites. I have a few that I use frequently. I use them to get a lot of information about a particular topic, but I also use them to keep up to date on current events and news. I also like to read the blogs of other people who are interested in the same topics as I am. I also use the websites to find out what other people are doing and to learn about new technologies. I have used a few of these websites for a long time, and I have found them to be useful and useful. I use a few of them for my own research. I also have used them to find information on a particular subject.\n",
      "**********\n",
      "\n",
      "The best websites are ones that you never heard about. You have to go to the website and read the description and see if you can find something that you want. If you can't, you probably shouldn't be looking at the website. If you find a website that you want to visit, but you can't find it on the website, then you should look for it on the Internet. You can always go to the Internet and look for the website, and if it's there, you can go there and read it. If it isn't there, then you can go to a library and read the book that's there.\n",
      "**********\n",
      "\n",
      "I use a lot of the websites I've mentioned in the past. I use them for a lot of different reasons. One is to get a feel for what people like and dislike about the site. Another is to see what's new and what people are talking about. I also use them to see if I can get a better price. I've found that some of the sites I've used have a better price than others, but I've also found that some sites are cheaper. It's all about finding the best deal for you and your family.\n",
      "**********\n",
      "\n"
     ]
    }
   ],
   "source": [
    "print_samples(\"\"\"What are underrated websites and what do you use them for?\"\"\")"
   ]
  },
  {
   "cell_type": "code",
   "execution_count": 118,
   "metadata": {},
   "outputs": [
    {
     "name": "stdout",
     "output_type": "stream",
     "text": [
      "Because they are not me. They are not me, and they do not deserve my hatred.\n",
      "**********\n",
      "\n",
      "Because they are wrong, and I hate the wrong people.\n",
      "**********\n",
      "\n",
      "Because they are not me.\n",
      "**********\n",
      "\n",
      "Because they are the people that I hate, because I don't want them to be here, because I want to make sure they are not here, because they are the ones that I hate.\n",
      "**********\n",
      "\n",
      "Because they are the people that are trying to take my life away.\n",
      "**********\n",
      "\n"
     ]
    }
   ],
   "source": [
    "print_samples(\"\"\"Why do you hate the people that you hate?\"\"\")"
   ]
  },
  {
   "cell_type": "code",
   "execution_count": 119,
   "metadata": {},
   "outputs": [
    {
     "name": "stdout",
     "output_type": "stream",
     "text": [
      "I was the first person to develop film for digital cameras, so I developed film for the first digital cameras, the Nikon F2, F3, F5, F6, F8, F9, and the F100, and the first digital camera to have a film back was the Nikon F4. I developed film back for all the digital cameras that came after that, the Nikon D90, Nikon D3X, Nikon D4, D800, D800E, D800S, D4S, and the Nikon D800EII, D810, D810EII, and Df.\n",
      "**********\n",
      "\n",
      "I was a photographer for a long time. I developed a lot of weird stuff, and I still do some of it. I'm not sure what the future holds, but I'm still working on some things that I developed.\n",
      "**********\n",
      "\n",
      "Well, there was the time when I was developing the first digital camera. We had a lot of fun with that. We developed a lot of weird stuff, but I don't think we developed any really weird stuff. I don't know what we developed.\n",
      "**********\n",
      "\n",
      "The first digital camera was developed in the mid-1960s by a company called Nikon, which was a Japanese corporation. They developed the first digital camera in Japan, but they also developed the digital camera in the United States, which is the one that I used to develop. I was the first person to develop digital photography in America, and that's why I'm called the \"father of digital photography.\n",
      "**********\n",
      "\n",
      "Well, the first thing that I developed was a camera that could take pictures with the flash on and the camera would take a picture. I developed that camera and it was called a flash camera, but it didn't work very well. The flash would go out and the picture would be black. I developed another one that was a camera with a flash on it and it worked better, but it was still not very good. So I developed a camera that had the flash and the flash would go on and the picture was white, and I developed another camera that was the same as the first one except it had the flash on it. That camera worked very well. I developed the flash on the camera and the flash went on and it took pictures.\n",
      "**********\n",
      "\n"
     ]
    }
   ],
   "source": [
    "print_samples(\"\"\"People who used to work in photo labs before digital cameras, what weird stuff did you develop?\"\"\")"
   ]
  },
  {
   "cell_type": "code",
   "execution_count": 120,
   "metadata": {},
   "outputs": [
    {
     "name": "stdout",
     "output_type": "stream",
     "text": [
      "I'll go to the bathroom, then I'll go back to the washroom.\n",
      "**********\n",
      "\n",
      "If I see someone, I will go up to him and ask him to come out of the bathroom.\n",
      "**********\n",
      "\n",
      "I'll go in and ask them what's up, and if they say they don't know, then I'll go to the manager.\n",
      "**********\n",
      "\n",
      "If they are a threat to me, I'll shoot them in the head.\n",
      "**********\n",
      "\n",
      "I'll just wait until he comes out of the shower and then go in the bathroom. I don't think he's going to see me.\n",
      "**********\n",
      "\n"
     ]
    }
   ],
   "source": [
    "print_samples(\"\"\"To the people who check behind the shower curtain before using the washroom; what’s the next plan if you see someone?\"\"\")"
   ]
  },
  {
   "cell_type": "code",
   "execution_count": 121,
   "metadata": {},
   "outputs": [
    {
     "name": "stdout",
     "output_type": "stream",
     "text": [
      "\"This product is not intended for use by pregnant women or children under the age of 6.\n",
      "**********\n",
      "\n",
      "I would say, \"Don't use it.\n",
      "**********\n",
      "\n",
      "\"This is a dangerous substance. It is not for use by children under the age of 18. It is also not recommended for use by pregnant women or those with a history of heart disease or high blood pressure. If you have any questions about this product, please consult your doctor or pharmacist before use.\n",
      "**********\n",
      "\n",
      "I would say, 'This is a dangerous drug.\n",
      "**********\n",
      "\n",
      "I'd say, 'This product is dangerous to use.\n",
      "**********\n",
      "\n"
     ]
    }
   ],
   "source": [
    "print_samples(\"\"\"If you came with a warning label, what would it be?\"\"\")"
   ]
  },
  {
   "cell_type": "code",
   "execution_count": 122,
   "metadata": {},
   "outputs": [
    {
     "name": "stdout",
     "output_type": "stream",
     "text": [
      "Getting drunk is a great decision.\n",
      "**********\n",
      "\n",
      "Going to a bar and drinking.\n",
      "**********\n",
      "\n",
      "The decision I made when I was drunk is the same decision I make when I'm not drunk.\n",
      "**********\n",
      "\n",
      "I was in the bathroom at a party, and my friend said \"Hey, you should come to the party.\" I was like \"What the fuck?\" and he was like \"Come on man, I'll drive you.\" So I went with him. I was like, \"I'm not going to drink.\" He was like \"No, you're not.\" So we get there, and I'm like, \"Oh my god, this is so awesome. This is so much better than the last one.\" And then he goes, \"I don't know, you should try this one. It's really good.\n",
      "**********\n",
      "\n",
      "I've made a lot of bad decisions while drunk, but I've made the best decision I've ever made while drunk.\n",
      "**********\n",
      "\n"
     ]
    }
   ],
   "source": [
    "print_samples(\"\"\"What is the best decision you've made while drunk?\"\"\")"
   ]
  },
  {
   "cell_type": "code",
   "execution_count": 123,
   "metadata": {},
   "outputs": [
    {
     "name": "stdout",
     "output_type": "stream",
     "text": [
      "I’m not afraid to get dirty.\n",
      "**********\n",
      "\n",
      "I try to be a positive person, even when things are not going my way.\n",
      "**********\n",
      "\n",
      "Don't ever give up!\n",
      "**********\n",
      "\n",
      "Never give in to the temptation to be angry or frustrated.\n",
      "**********\n",
      "\n",
      "I don't have any rules.\n",
      "**********\n",
      "\n"
     ]
    }
   ],
   "source": [
    "print_samples(\"\"\"What’s one rule you live by?\"\"\")"
   ]
  },
  {
   "cell_type": "code",
   "execution_count": null,
   "metadata": {},
   "outputs": [],
   "source": []
  },
  {
   "cell_type": "code",
   "execution_count": null,
   "metadata": {},
   "outputs": [],
   "source": []
  }
 ],
 "metadata": {
  "kernelspec": {
   "display_name": "Python 3",
   "language": "python",
   "name": "python3"
  },
  "language_info": {
   "codemirror_mode": {
    "name": "ipython",
    "version": 3
   },
   "file_extension": ".py",
   "mimetype": "text/x-python",
   "name": "python",
   "nbconvert_exporter": "python",
   "pygments_lexer": "ipython3",
   "version": "3.8.3"
  }
 },
 "nbformat": 4,
 "nbformat_minor": 4
}
