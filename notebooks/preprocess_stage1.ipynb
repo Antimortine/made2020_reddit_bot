{
 "cells": [
  {
   "cell_type": "code",
   "execution_count": 11,
   "metadata": {},
   "outputs": [],
   "source": [
    "import os\n",
    "import zstandard\n",
    "import json\n",
    "import sys\n",
    "import pandas as pd\n",
    "import psutil\n",
    "\n",
    "subreddit_list = ['politics', 'memes', 'teenagers', 'AmItheAsshole', 'AskReddit']\n",
    "comment_fields_list = ['link_id', 'id', 'parent_id', 'author', 'author_fullname', 'permalink',\n",
    "                       'body', 'total_awards_received', 'score', 'subreddit', 'removal_reason']\n",
    "submission_fields_list = ['id', 'num_comments', 'author', 'author_fullname', 'permalink', \n",
    "                          'selftext', 'total_awards_received', 'score', 'subreddit', 'removal_reason']\n",
    "data_path = 'data'"
   ]
  },
  {
   "cell_type": "code",
   "execution_count": 12,
   "metadata": {},
   "outputs": [
    {
     "data": {
      "text/plain": [
       "['data/RS_2019-03.csv.gz',\n",
       " 'data/RS_2019-06.csv.gz',\n",
       " 'data/RS_2019-04.csv.gz',\n",
       " 'data/RS_2019-01.csv.gz',\n",
       " 'data/RS_2019-05.csv.gz',\n",
       " 'data/RS_2019-09.csv.gz',\n",
       " 'data/RS_2019-12.csv.gz',\n",
       " 'data/RS_2019-08.csv.gz',\n",
       " 'data/RS_2018-11.csv.gz',\n",
       " 'data/RS_2019-11.csv.gz',\n",
       " 'data/RS_2019-10.csv.gz',\n",
       " 'data/RS_2019-07.csv.gz',\n",
       " 'data/RS_2019-02.csv.gz',\n",
       " 'data/RS_2018-12.csv.gz']"
      ]
     },
     "execution_count": 12,
     "metadata": {},
     "output_type": "execute_result"
    }
   ],
   "source": [
    "rs_list = []\n",
    "for f in os.listdir(data_path):\n",
    "    if (f.find('RS')>=0) & (f.find('csv')>=0):\n",
    "        rs_list.append(os.path.join(data_path, f))\n",
    "rs_list"
   ]
  },
  {
   "cell_type": "code",
   "execution_count": 13,
   "metadata": {},
   "outputs": [
    {
     "name": "stdout",
     "output_type": "stream",
     "text": [
      "CPU times: user 12.1 s, sys: 786 ms, total: 12.9 s\n",
      "Wall time: 12.9 s\n"
     ]
    }
   ],
   "source": [
    "%%time\n",
    "#fl_path = os.path.join(data_path, 'RS_2019-12.csv.gz')\n",
    "df_s = pd.concat([pd.read_csv(i, compression = 'gzip', sep = ';') for i in rs_list]\n",
    "                ).reset_index().drop('index', axis = 1)"
   ]
  },
  {
   "cell_type": "code",
   "execution_count": 14,
   "metadata": {},
   "outputs": [
    {
     "data": {
      "text/plain": [
       "(3935392, 11)"
      ]
     },
     "execution_count": 14,
     "metadata": {},
     "output_type": "execute_result"
    }
   ],
   "source": [
    "df_s.shape"
   ]
  },
  {
   "cell_type": "code",
   "execution_count": 22,
   "metadata": {},
   "outputs": [],
   "source": [
    "df_s['text'] = df_s.selftext\n",
    "df_s.loc[(df_s.selftext.isnull()) | (df_s.selftext.isin(['[deleted]', '[removed]'])), 'text'\n",
    "        ] = df_s.loc[(df_s.selftext.isnull()) | (df_s.selftext.isin(['[deleted]', '[removed]'])), 'title']"
   ]
  },
  {
   "cell_type": "code",
   "execution_count": 24,
   "metadata": {},
   "outputs": [],
   "source": [
    "df_s = df_s[df_s.text.notnull()]\n",
    "df_s = df_s[~df_s.text.isin(['[deleted]', '[removed]'])]"
   ]
  },
  {
   "cell_type": "code",
   "execution_count": 25,
   "metadata": {},
   "outputs": [
    {
     "data": {
      "text/plain": [
       "(3935390, 12)"
      ]
     },
     "execution_count": 25,
     "metadata": {},
     "output_type": "execute_result"
    }
   ],
   "source": [
    "df_s.shape"
   ]
  },
  {
   "cell_type": "code",
   "execution_count": 26,
   "metadata": {},
   "outputs": [
    {
     "data": {
      "text/html": [
       "<div>\n",
       "<style scoped>\n",
       "    .dataframe tbody tr th:only-of-type {\n",
       "        vertical-align: middle;\n",
       "    }\n",
       "\n",
       "    .dataframe tbody tr th {\n",
       "        vertical-align: top;\n",
       "    }\n",
       "\n",
       "    .dataframe thead th {\n",
       "        text-align: right;\n",
       "    }\n",
       "</style>\n",
       "<table border=\"1\" class=\"dataframe\">\n",
       "  <thead>\n",
       "    <tr style=\"text-align: right;\">\n",
       "      <th></th>\n",
       "      <th>id</th>\n",
       "      <th>num_comments</th>\n",
       "      <th>title</th>\n",
       "      <th>author</th>\n",
       "      <th>author_fullname</th>\n",
       "      <th>permalink</th>\n",
       "      <th>selftext</th>\n",
       "      <th>total_awards_received</th>\n",
       "      <th>score</th>\n",
       "      <th>subreddit</th>\n",
       "      <th>removal_reason</th>\n",
       "      <th>text</th>\n",
       "    </tr>\n",
       "  </thead>\n",
       "  <tbody>\n",
       "    <tr>\n",
       "      <th>3935390</th>\n",
       "      <td>abcubk</td>\n",
       "      <td>1</td>\n",
       "      <td>What is the best new song you heard in 2018?</td>\n",
       "      <td>A_Tricky_one</td>\n",
       "      <td>t2_sbdyn</td>\n",
       "      <td>/r/AskReddit/comments/abcubk/what_is_the_best_...</td>\n",
       "      <td>[removed]</td>\n",
       "      <td>NaN</td>\n",
       "      <td>1</td>\n",
       "      <td>AskReddit</td>\n",
       "      <td>NaN</td>\n",
       "      <td>What is the best new song you heard in 2018?</td>\n",
       "    </tr>\n",
       "    <tr>\n",
       "      <th>3935391</th>\n",
       "      <td>abcuf1</td>\n",
       "      <td>3</td>\n",
       "      <td>What's your story when you thought you were go...</td>\n",
       "      <td>ronimal48</td>\n",
       "      <td>t2_khnlj</td>\n",
       "      <td>/r/AskReddit/comments/abcuf1/whats_your_story_...</td>\n",
       "      <td>NaN</td>\n",
       "      <td>NaN</td>\n",
       "      <td>3</td>\n",
       "      <td>AskReddit</td>\n",
       "      <td>NaN</td>\n",
       "      <td>What's your story when you thought you were go...</td>\n",
       "    </tr>\n",
       "  </tbody>\n",
       "</table>\n",
       "</div>"
      ],
      "text/plain": [
       "             id  num_comments  \\\n",
       "3935390  abcubk             1   \n",
       "3935391  abcuf1             3   \n",
       "\n",
       "                                                     title        author  \\\n",
       "3935390       What is the best new song you heard in 2018?  A_Tricky_one   \n",
       "3935391  What's your story when you thought you were go...     ronimal48   \n",
       "\n",
       "        author_fullname                                          permalink  \\\n",
       "3935390        t2_sbdyn  /r/AskReddit/comments/abcubk/what_is_the_best_...   \n",
       "3935391        t2_khnlj  /r/AskReddit/comments/abcuf1/whats_your_story_...   \n",
       "\n",
       "          selftext  total_awards_received  score  subreddit  removal_reason  \\\n",
       "3935390  [removed]                    NaN      1  AskReddit             NaN   \n",
       "3935391        NaN                    NaN      3  AskReddit             NaN   \n",
       "\n",
       "                                                      text  \n",
       "3935390       What is the best new song you heard in 2018?  \n",
       "3935391  What's your story when you thought you were go...  "
      ]
     },
     "execution_count": 26,
     "metadata": {},
     "output_type": "execute_result"
    }
   ],
   "source": [
    "df_s.tail(2)"
   ]
  },
  {
   "cell_type": "code",
   "execution_count": 27,
   "metadata": {},
   "outputs": [
    {
     "data": {
      "text/plain": [
       "['data/RC_2019-04.csv.gz',\n",
       " 'data/RC_2019-10.csv.gz',\n",
       " 'data/RC_2018-12.csv.gz',\n",
       " 'data/RC_2019-09.csv.gz',\n",
       " 'data/RC_2018-10.csv.gz',\n",
       " 'data/RC_2019-05.csv.gz',\n",
       " 'data/RC_2018-11.csv.gz',\n",
       " 'data/RC_2019-11.csv.gz',\n",
       " 'data/RC_2019-06.csv.gz',\n",
       " 'data/RC_2019-08.csv.gz',\n",
       " 'data/RC_2019-12.csv.gz',\n",
       " 'data/RC_2019-01.csv.gz',\n",
       " 'data/RC_2019-02.csv.gz',\n",
       " 'data/RC_2019-07.csv.gz',\n",
       " 'data/RC_2019-03.csv.gz']"
      ]
     },
     "execution_count": 27,
     "metadata": {},
     "output_type": "execute_result"
    }
   ],
   "source": [
    "rc_list = []\n",
    "for f in os.listdir(data_path):\n",
    "    if (f.find('RC')>=0) & (f.find('csv')>=0):\n",
    "        rc_list.append(os.path.join(data_path, f))\n",
    "rc_list"
   ]
  },
  {
   "cell_type": "code",
   "execution_count": 28,
   "metadata": {},
   "outputs": [
    {
     "name": "stderr",
     "output_type": "stream",
     "text": [
      "/home/dima/anaconda3/lib/python3.8/site-packages/IPython/core/magic.py:187: DtypeWarning: Columns (9) have mixed types.Specify dtype option on import or set low_memory=False.\n",
      "  call = lambda f, *a, **k: f(*a, **k)\n",
      "/home/dima/anaconda3/lib/python3.8/site-packages/IPython/core/magic.py:187: DtypeWarning: Columns (0,1,2,3,4,5,6,9) have mixed types.Specify dtype option on import or set low_memory=False.\n",
      "  call = lambda f, *a, **k: f(*a, **k)\n"
     ]
    },
    {
     "name": "stdout",
     "output_type": "stream",
     "text": [
      "CPU times: user 3min 49s, sys: 25 s, total: 4min 14s\n",
      "Wall time: 4min 15s\n"
     ]
    }
   ],
   "source": [
    "%%time\n",
    "df_c = pd.concat([pd.read_csv(i, compression = 'gzip', sep = ';') for i in rc_list]\n",
    "                ).reset_index().drop('index', axis = 1)"
   ]
  },
  {
   "cell_type": "code",
   "execution_count": 29,
   "metadata": {},
   "outputs": [
    {
     "data": {
      "text/plain": [
       "(94181545, 13)"
      ]
     },
     "execution_count": 29,
     "metadata": {},
     "output_type": "execute_result"
    }
   ],
   "source": [
    "df_c.shape"
   ]
  },
  {
   "cell_type": "code",
   "execution_count": 30,
   "metadata": {},
   "outputs": [
    {
     "data": {
      "text/html": [
       "<div>\n",
       "<style scoped>\n",
       "    .dataframe tbody tr th:only-of-type {\n",
       "        vertical-align: middle;\n",
       "    }\n",
       "\n",
       "    .dataframe tbody tr th {\n",
       "        vertical-align: top;\n",
       "    }\n",
       "\n",
       "    .dataframe thead th {\n",
       "        text-align: right;\n",
       "    }\n",
       "</style>\n",
       "<table border=\"1\" class=\"dataframe\">\n",
       "  <thead>\n",
       "    <tr style=\"text-align: right;\">\n",
       "      <th></th>\n",
       "      <th>id</th>\n",
       "      <th>num_comments</th>\n",
       "      <th>author</th>\n",
       "      <th>author_fullname</th>\n",
       "      <th>permalink</th>\n",
       "      <th>selftext</th>\n",
       "      <th>total_awards_received</th>\n",
       "      <th>score</th>\n",
       "      <th>subreddit</th>\n",
       "      <th>removal_reason</th>\n",
       "      <th>link_id</th>\n",
       "      <th>parent_id</th>\n",
       "      <th>body</th>\n",
       "    </tr>\n",
       "  </thead>\n",
       "  <tbody>\n",
       "    <tr>\n",
       "      <th>94181543</th>\n",
       "      <td>ejualmg</td>\n",
       "      <td>NaN</td>\n",
       "      <td>chiplay99</td>\n",
       "      <td>t2_3g6x7l2l</td>\n",
       "      <td>/r/AskReddit/comments/b7ulkq/how_often_to_you_...</td>\n",
       "      <td>None</td>\n",
       "      <td>NaN</td>\n",
       "      <td>3.0</td>\n",
       "      <td>AskReddit</td>\n",
       "      <td>NaN</td>\n",
       "      <td>NaN</td>\n",
       "      <td>NaN</td>\n",
       "      <td>NaN</td>\n",
       "    </tr>\n",
       "    <tr>\n",
       "      <th>94181544</th>\n",
       "      <td>ejualmq</td>\n",
       "      <td>NaN</td>\n",
       "      <td>gocamping</td>\n",
       "      <td>t2_1cltf29</td>\n",
       "      <td>/r/AskReddit/comments/b7rka1/what_gets_better_...</td>\n",
       "      <td>None</td>\n",
       "      <td>NaN</td>\n",
       "      <td>2.0</td>\n",
       "      <td>AskReddit</td>\n",
       "      <td>NaN</td>\n",
       "      <td>NaN</td>\n",
       "      <td>NaN</td>\n",
       "      <td>NaN</td>\n",
       "    </tr>\n",
       "  </tbody>\n",
       "</table>\n",
       "</div>"
      ],
      "text/plain": [
       "               id  num_comments     author author_fullname  \\\n",
       "94181543  ejualmg           NaN  chiplay99     t2_3g6x7l2l   \n",
       "94181544  ejualmq           NaN  gocamping      t2_1cltf29   \n",
       "\n",
       "                                                  permalink selftext  \\\n",
       "94181543  /r/AskReddit/comments/b7ulkq/how_often_to_you_...     None   \n",
       "94181544  /r/AskReddit/comments/b7rka1/what_gets_better_...     None   \n",
       "\n",
       "          total_awards_received  score  subreddit removal_reason link_id  \\\n",
       "94181543                    NaN    3.0  AskReddit            NaN     NaN   \n",
       "94181544                    NaN    2.0  AskReddit            NaN     NaN   \n",
       "\n",
       "         parent_id body  \n",
       "94181543       NaN  NaN  \n",
       "94181544       NaN  NaN  "
      ]
     },
     "execution_count": 30,
     "metadata": {},
     "output_type": "execute_result"
    }
   ],
   "source": [
    "df_c.tail(2)"
   ]
  },
  {
   "cell_type": "code",
   "execution_count": 31,
   "metadata": {},
   "outputs": [],
   "source": [
    "df_c = df_c[df_c.author != '[deleted]']\n",
    "df_c = df_c[df_c.link_id.apply(lambda x: len(str(x).split('_')) > 1)]\n",
    "df_c['subm_id'] = df_c.link_id.apply(lambda x: str(x).split('_')[1])\n",
    "df_c = df_c[df_c.body.notnull()]"
   ]
  },
  {
   "cell_type": "code",
   "execution_count": 39,
   "metadata": {},
   "outputs": [
    {
     "data": {
      "text/plain": [
       "(16351059, 14)"
      ]
     },
     "execution_count": 39,
     "metadata": {},
     "output_type": "execute_result"
    }
   ],
   "source": [
    "df_c.shape"
   ]
  },
  {
   "cell_type": "code",
   "execution_count": 33,
   "metadata": {},
   "outputs": [
    {
     "data": {
      "text/html": [
       "<div>\n",
       "<style scoped>\n",
       "    .dataframe tbody tr th:only-of-type {\n",
       "        vertical-align: middle;\n",
       "    }\n",
       "\n",
       "    .dataframe tbody tr th {\n",
       "        vertical-align: top;\n",
       "    }\n",
       "\n",
       "    .dataframe thead th {\n",
       "        text-align: right;\n",
       "    }\n",
       "</style>\n",
       "<table border=\"1\" class=\"dataframe\">\n",
       "  <thead>\n",
       "    <tr style=\"text-align: right;\">\n",
       "      <th></th>\n",
       "      <th>id</th>\n",
       "      <th>num_comments</th>\n",
       "      <th>author</th>\n",
       "      <th>author_fullname</th>\n",
       "      <th>permalink</th>\n",
       "      <th>selftext</th>\n",
       "      <th>total_awards_received</th>\n",
       "      <th>score</th>\n",
       "      <th>subreddit</th>\n",
       "      <th>removal_reason</th>\n",
       "      <th>link_id</th>\n",
       "      <th>parent_id</th>\n",
       "      <th>body</th>\n",
       "      <th>subm_id</th>\n",
       "    </tr>\n",
       "  </thead>\n",
       "  <tbody>\n",
       "    <tr>\n",
       "      <th>42057357</th>\n",
       "      <td>eatm37x</td>\n",
       "      <td>NaN</td>\n",
       "      <td>crankywithakeyboard</td>\n",
       "      <td>t2_i3hlf</td>\n",
       "      <td>/r/AskReddit/comments/a1xsf8/whats_your_christ...</td>\n",
       "      <td>NaN</td>\n",
       "      <td>NaN</td>\n",
       "      <td>1.0</td>\n",
       "      <td>AskReddit</td>\n",
       "      <td>NaN</td>\n",
       "      <td>t3_a1xsf8</td>\n",
       "      <td>t3_a1xsf8</td>\n",
       "      <td>Big families draw names and only buy for that ...</td>\n",
       "      <td>a1xsf8</td>\n",
       "    </tr>\n",
       "    <tr>\n",
       "      <th>42057358</th>\n",
       "      <td>eatm385</td>\n",
       "      <td>NaN</td>\n",
       "      <td>Jarkny</td>\n",
       "      <td>t2_2imewmqg</td>\n",
       "      <td>/r/AskReddit/comments/a1xsxm/whats_the_worst_a...</td>\n",
       "      <td>NaN</td>\n",
       "      <td>NaN</td>\n",
       "      <td>2.0</td>\n",
       "      <td>AskReddit</td>\n",
       "      <td>NaN</td>\n",
       "      <td>t3_a1xsxm</td>\n",
       "      <td>t1_eatlust</td>\n",
       "      <td>I know. I’ve always thought how lucky I am tbh.</td>\n",
       "      <td>a1xsxm</td>\n",
       "    </tr>\n",
       "  </tbody>\n",
       "</table>\n",
       "</div>"
      ],
      "text/plain": [
       "               id  num_comments               author author_fullname  \\\n",
       "42057357  eatm37x           NaN  crankywithakeyboard        t2_i3hlf   \n",
       "42057358  eatm385           NaN               Jarkny     t2_2imewmqg   \n",
       "\n",
       "                                                  permalink selftext  \\\n",
       "42057357  /r/AskReddit/comments/a1xsf8/whats_your_christ...      NaN   \n",
       "42057358  /r/AskReddit/comments/a1xsxm/whats_the_worst_a...      NaN   \n",
       "\n",
       "          total_awards_received  score  subreddit removal_reason    link_id  \\\n",
       "42057357                    NaN    1.0  AskReddit            NaN  t3_a1xsf8   \n",
       "42057358                    NaN    2.0  AskReddit            NaN  t3_a1xsxm   \n",
       "\n",
       "           parent_id                                               body  \\\n",
       "42057357   t3_a1xsf8  Big families draw names and only buy for that ...   \n",
       "42057358  t1_eatlust    I know. I’ve always thought how lucky I am tbh.   \n",
       "\n",
       "         subm_id  \n",
       "42057357  a1xsf8  \n",
       "42057358  a1xsxm  "
      ]
     },
     "execution_count": 33,
     "metadata": {},
     "output_type": "execute_result"
    }
   ],
   "source": [
    "df_c.tail(2)"
   ]
  },
  {
   "cell_type": "code",
   "execution_count": 41,
   "metadata": {},
   "outputs": [
    {
     "name": "stdout",
     "output_type": "stream",
     "text": [
      "CPU times: user 18.5 s, sys: 2.06 s, total: 20.6 s\n",
      "Wall time: 20.8 s\n"
     ]
    }
   ],
   "source": [
    "%%time\n",
    "df = pd.merge(df_c[['link_id', 'id', 'author', 'total_awards_received', 'body', 'permalink',\n",
    "                    'score', 'subreddit', 'subm_id']\n",
    "                  ].rename(columns = {'body': 'text'}),#.head(20), \n",
    "              df_s[['author', 'text', 'id',  'total_awards_received', 'score', 'num_comments']\n",
    "                  ],\n",
    "              how = 'inner', \n",
    "              left_on = 'subm_id', \n",
    "              right_on = 'id',\n",
    "              suffixes = ['_comment', '_submission']\n",
    "             ).drop('subm_id', axis = 1)"
   ]
  },
  {
   "cell_type": "code",
   "execution_count": 42,
   "metadata": {},
   "outputs": [
    {
     "data": {
      "text/html": [
       "<div>\n",
       "<style scoped>\n",
       "    .dataframe tbody tr th:only-of-type {\n",
       "        vertical-align: middle;\n",
       "    }\n",
       "\n",
       "    .dataframe tbody tr th {\n",
       "        vertical-align: top;\n",
       "    }\n",
       "\n",
       "    .dataframe thead th {\n",
       "        text-align: right;\n",
       "    }\n",
       "</style>\n",
       "<table border=\"1\" class=\"dataframe\">\n",
       "  <thead>\n",
       "    <tr style=\"text-align: right;\">\n",
       "      <th></th>\n",
       "      <th>0</th>\n",
       "      <th>1</th>\n",
       "    </tr>\n",
       "  </thead>\n",
       "  <tbody>\n",
       "    <tr>\n",
       "      <th>link_id</th>\n",
       "      <td>t3_a1x406</td>\n",
       "      <td>t3_a1x406</td>\n",
       "    </tr>\n",
       "    <tr>\n",
       "      <th>id_comment</th>\n",
       "      <td>eatm38u</td>\n",
       "      <td>eatm4v8</td>\n",
       "    </tr>\n",
       "    <tr>\n",
       "      <th>author_comment</th>\n",
       "      <td>DomIstKrieg</td>\n",
       "      <td>dorydoop</td>\n",
       "    </tr>\n",
       "    <tr>\n",
       "      <th>total_awards_received_comment</th>\n",
       "      <td>NaN</td>\n",
       "      <td>NaN</td>\n",
       "    </tr>\n",
       "    <tr>\n",
       "      <th>text_comment</th>\n",
       "      <td>Same. I would have missed some cool stuff.</td>\n",
       "      <td>Wow. That incredible. Did you get to know the ...</td>\n",
       "    </tr>\n",
       "    <tr>\n",
       "      <th>permalink</th>\n",
       "      <td>/r/AskReddit/comments/a1x406/redditors_who_hav...</td>\n",
       "      <td>/r/AskReddit/comments/a1x406/redditors_who_hav...</td>\n",
       "    </tr>\n",
       "    <tr>\n",
       "      <th>score_comment</th>\n",
       "      <td>2</td>\n",
       "      <td>2</td>\n",
       "    </tr>\n",
       "    <tr>\n",
       "      <th>subreddit</th>\n",
       "      <td>AskReddit</td>\n",
       "      <td>AskReddit</td>\n",
       "    </tr>\n",
       "    <tr>\n",
       "      <th>author_submission</th>\n",
       "      <td>dorydoop</td>\n",
       "      <td>dorydoop</td>\n",
       "    </tr>\n",
       "    <tr>\n",
       "      <th>text_submission</th>\n",
       "      <td>Redditors who have come close to suicide, what...</td>\n",
       "      <td>Redditors who have come close to suicide, what...</td>\n",
       "    </tr>\n",
       "    <tr>\n",
       "      <th>id_submission</th>\n",
       "      <td>a1x406</td>\n",
       "      <td>a1x406</td>\n",
       "    </tr>\n",
       "    <tr>\n",
       "      <th>total_awards_received_submission</th>\n",
       "      <td>NaN</td>\n",
       "      <td>NaN</td>\n",
       "    </tr>\n",
       "    <tr>\n",
       "      <th>score_submission</th>\n",
       "      <td>5</td>\n",
       "      <td>5</td>\n",
       "    </tr>\n",
       "    <tr>\n",
       "      <th>num_comments</th>\n",
       "      <td>41</td>\n",
       "      <td>41</td>\n",
       "    </tr>\n",
       "  </tbody>\n",
       "</table>\n",
       "</div>"
      ],
      "text/plain": [
       "                                                                                  0  \\\n",
       "link_id                                                                   t3_a1x406   \n",
       "id_comment                                                                  eatm38u   \n",
       "author_comment                                                          DomIstKrieg   \n",
       "total_awards_received_comment                                                   NaN   \n",
       "text_comment                             Same. I would have missed some cool stuff.   \n",
       "permalink                         /r/AskReddit/comments/a1x406/redditors_who_hav...   \n",
       "score_comment                                                                     2   \n",
       "subreddit                                                                 AskReddit   \n",
       "author_submission                                                          dorydoop   \n",
       "text_submission                   Redditors who have come close to suicide, what...   \n",
       "id_submission                                                                a1x406   \n",
       "total_awards_received_submission                                                NaN   \n",
       "score_submission                                                                  5   \n",
       "num_comments                                                                     41   \n",
       "\n",
       "                                                                                  1  \n",
       "link_id                                                                   t3_a1x406  \n",
       "id_comment                                                                  eatm4v8  \n",
       "author_comment                                                             dorydoop  \n",
       "total_awards_received_comment                                                   NaN  \n",
       "text_comment                      Wow. That incredible. Did you get to know the ...  \n",
       "permalink                         /r/AskReddit/comments/a1x406/redditors_who_hav...  \n",
       "score_comment                                                                     2  \n",
       "subreddit                                                                 AskReddit  \n",
       "author_submission                                                          dorydoop  \n",
       "text_submission                   Redditors who have come close to suicide, what...  \n",
       "id_submission                                                                a1x406  \n",
       "total_awards_received_submission                                                NaN  \n",
       "score_submission                                                                  5  \n",
       "num_comments                                                                     41  "
      ]
     },
     "execution_count": 42,
     "metadata": {},
     "output_type": "execute_result"
    }
   ],
   "source": [
    "df.head(2).T"
   ]
  },
  {
   "cell_type": "code",
   "execution_count": 43,
   "metadata": {},
   "outputs": [
    {
     "data": {
      "text/plain": [
       "(9423894, 14)"
      ]
     },
     "execution_count": 43,
     "metadata": {},
     "output_type": "execute_result"
    }
   ],
   "source": [
    "df.shape"
   ]
  },
  {
   "cell_type": "code",
   "execution_count": 44,
   "metadata": {},
   "outputs": [
    {
     "data": {
      "text/plain": [
       "AskReddit    9407867\n",
       "Name: subreddit, dtype: int64"
      ]
     },
     "execution_count": 44,
     "metadata": {},
     "output_type": "execute_result"
    }
   ],
   "source": [
    "df.subreddit.value_counts()"
   ]
  },
  {
   "cell_type": "markdown",
   "metadata": {},
   "source": [
    "AmItheAsshole, teenagers, politics"
   ]
  },
  {
   "cell_type": "code",
   "execution_count": 1,
   "metadata": {},
   "outputs": [
    {
     "ename": "NameError",
     "evalue": "name 'df' is not defined",
     "output_type": "error",
     "traceback": [
      "\u001b[0;31m---------------------------------------------------------------------------\u001b[0m",
      "\u001b[0;31mNameError\u001b[0m                                 Traceback (most recent call last)",
      "\u001b[0;32m<timed eval>\u001b[0m in \u001b[0;36m<module>\u001b[0;34m\u001b[0m\n",
      "\u001b[0;31mNameError\u001b[0m: name 'df' is not defined"
     ]
    }
   ],
   "source": [
    "%%time\n",
    "df.to_csv(os.path.join(data_path, 'joined_data_AskReddit.csv.gz'), \n",
    "          compression = 'gzip',\n",
    "          sep = ';',\n",
    "          index = False\n",
    "         )"
   ]
  },
  {
   "cell_type": "code",
   "execution_count": null,
   "metadata": {},
   "outputs": [],
   "source": []
  }
 ],
 "metadata": {
  "kernelspec": {
   "display_name": "Python 3",
   "language": "python",
   "name": "python3"
  },
  "language_info": {
   "codemirror_mode": {
    "name": "ipython",
    "version": 3
   },
   "file_extension": ".py",
   "mimetype": "text/x-python",
   "name": "python",
   "nbconvert_exporter": "python",
   "pygments_lexer": "ipython3",
   "version": "3.8.3"
  }
 },
 "nbformat": 4,
 "nbformat_minor": 4
}
