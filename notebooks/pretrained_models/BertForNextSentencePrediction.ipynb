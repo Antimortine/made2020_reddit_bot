{
 "cells": [
  {
   "cell_type": "code",
   "execution_count": 1,
   "metadata": {},
   "outputs": [],
   "source": [
    "import torch\n",
    "from transformers import BertTokenizer, BertForNextSentencePrediction"
   ]
  },
  {
   "cell_type": "code",
   "execution_count": 2,
   "metadata": {},
   "outputs": [
    {
     "data": {
      "text/plain": [
       "device(type='cuda', index=0)"
      ]
     },
     "execution_count": 2,
     "metadata": {},
     "output_type": "execute_result"
    }
   ],
   "source": [
    "device = torch.device('cuda:0') if torch.cuda.is_available() else torch.device('cpu')\n",
    "device"
   ]
  },
  {
   "cell_type": "code",
   "execution_count": 3,
   "metadata": {},
   "outputs": [
    {
     "data": {
      "application/vnd.jupyter.widget-view+json": {
       "model_id": "78b3e12eb0214f7981c21e924de86816",
       "version_major": 2,
       "version_minor": 0
      },
      "text/plain": [
       "HBox(children=(HTML(value='Downloading'), FloatProgress(value=0.0, max=231508.0), HTML(value='')))"
      ]
     },
     "metadata": {},
     "output_type": "display_data"
    },
    {
     "name": "stdout",
     "output_type": "stream",
     "text": [
      "\n"
     ]
    }
   ],
   "source": [
    "tokenizer = BertTokenizer.from_pretrained('bert-base-uncased')"
   ]
  },
  {
   "cell_type": "code",
   "execution_count": 4,
   "metadata": {},
   "outputs": [
    {
     "data": {
      "application/vnd.jupyter.widget-view+json": {
       "model_id": "af8131b5a2944e8e9b4411e525ebcfb2",
       "version_major": 2,
       "version_minor": 0
      },
      "text/plain": [
       "HBox(children=(HTML(value='Downloading'), FloatProgress(value=0.0, max=433.0), HTML(value='')))"
      ]
     },
     "metadata": {},
     "output_type": "display_data"
    },
    {
     "name": "stdout",
     "output_type": "stream",
     "text": [
      "\n"
     ]
    },
    {
     "data": {
      "application/vnd.jupyter.widget-view+json": {
       "model_id": "39f7578d5ca8469d9061b67d036c4e50",
       "version_major": 2,
       "version_minor": 0
      },
      "text/plain": [
       "HBox(children=(HTML(value='Downloading'), FloatProgress(value=0.0, max=440473133.0), HTML(value='')))"
      ]
     },
     "metadata": {},
     "output_type": "display_data"
    },
    {
     "name": "stdout",
     "output_type": "stream",
     "text": [
      "\n"
     ]
    },
    {
     "name": "stderr",
     "output_type": "stream",
     "text": [
      "Some weights of the model checkpoint at bert-base-uncased were not used when initializing BertForNextSentencePrediction: ['cls.predictions.bias', 'cls.predictions.transform.dense.weight', 'cls.predictions.transform.dense.bias', 'cls.predictions.decoder.weight', 'cls.predictions.transform.LayerNorm.weight', 'cls.predictions.transform.LayerNorm.bias']\n",
      "- This IS expected if you are initializing BertForNextSentencePrediction from the checkpoint of a model trained on another task or with another architecture (e.g. initializing a BertForSequenceClassification model from a BertForPreTraining model).\n",
      "- This IS NOT expected if you are initializing BertForNextSentencePrediction from the checkpoint of a model that you expect to be exactly identical (initializing a BertForSequenceClassification model from a BertForSequenceClassification model).\n"
     ]
    }
   ],
   "source": [
    "model = BertForNextSentencePrediction.from_pretrained('bert-base-uncased')\n",
    "model.to(device);"
   ]
  },
  {
   "cell_type": "code",
   "execution_count": 58,
   "metadata": {},
   "outputs": [],
   "source": [
    "def score_pairs(question, answers, model=model, tokenizer=tokenizer):\n",
    "    encoding = tokenizer([question] * len(answers),\n",
    "                         answers, return_tensors='pt', padding=True).to(device)\n",
    "    outputs = model(**encoding)[0]\n",
    "    logits = outputs[:,0]\n",
    "    probabilities = torch.softmax(outputs, -1)[:,0]\n",
    "    print(f'Question: {question}')\n",
    "    print(f'Logit\\tProbability\\tAnswer')\n",
    "    pairs = sorted(zip(logits, probabilities, answers), reverse=True)\n",
    "    for logit, probability, answer in pairs:\n",
    "        print(f'{logit:.4f}\\t{probability:.4f}\\t{answer}')"
   ]
  },
  {
   "cell_type": "code",
   "execution_count": 59,
   "metadata": {},
   "outputs": [
    {
     "name": "stdout",
     "output_type": "stream",
     "text": [
      "Question: Why the sky is blue?\n",
      "Logit\tProbability\tAnswer\n",
      "6.2451\t1.0000\tThe sky is blue due to the shorter wavelength of blue light.\n",
      "-0.4959\t0.0573\tI love pizza!\n"
     ]
    }
   ],
   "source": [
    "score_pairs(\"Why the sky is blue?\",\n",
    "           [\"The sky is blue due to the shorter wavelength of blue light.\",\n",
    "           \"I love pizza!\"])"
   ]
  },
  {
   "cell_type": "code",
   "execution_count": 60,
   "metadata": {},
   "outputs": [
    {
     "name": "stdout",
     "output_type": "stream",
     "text": [
      "Question: What's the grossest thing you've ever tasted?\n",
      "Logit\tProbability\tAnswer\n",
      "6.3374\t1.0000\tI don't know. I don't think I've ever tasted anything gross.\n",
      "6.3374\t1.0000\tI don't know. I don't think I've ever tasted anything gross.\n",
      "6.3026\t1.0000\tI don't know. I've never tasted anything that was gross.\n",
      "6.2917\t1.0000\tI haven't tasted any gross things. I don't know if it's because I don't drink alcohol, or if I don't eat meat, but I have never had anything disgusting. I have never tasted anything that wasn't delicious.\n",
      "6.2198\t1.0000\tI don't know. It was in a McDonald's in New York City. I don't really know. It's a lot. It's probably a lot of things. But it was a cheeseburger, and the cheeseburger was so greasy that I was like, \"This is gross.\" It was really gross, and I didn't really like it.\n",
      "5.8667\t1.0000\tMy mother's breasts. I was just eating them and I just started crying. I was like, \"Oh my God, my mother's breasts are so disgusting.\" They were really small and I thought they were really small.\n",
      "5.8304\t1.0000\tI think the best example of that is at one of our restaurants in San Diego. A guy came in and asked us if we would serve him an entire plate of raw oysters. He came in with a big appetite, and the waiter came out and said, \"I'm sorry, you can't have that.\" He said, \"But you can have all of them, and they're raw, so I can't turn them down.\" I said, \"Oh, come on, man. I can't even look at that.\" He went back in and got the whole oysters. It was so disgusting that he had to get out of the restaurant.\n",
      "5.4199\t1.0000\tI think it's probably my dad's hot dog. He had a hot dog for breakfast, and he was eating a hot dog and I was like, \"What the hell is this?\" And then he goes, \"You know, I'm going to take this hot dog out of the box and eat it.\n",
      "0.9482\t0.5120\tYes\n"
     ]
    }
   ],
   "source": [
    "score_pairs(\"What's the grossest thing you've ever tasted?\",\n",
    "           [\n",
    "               \"I don't know. I don't think I've ever tasted anything gross.\",\n",
    "               \"I don't know. I've never tasted anything that was gross.\",\n",
    "               \"I don't know. I don't think I've ever tasted anything gross.\",\n",
    "               \"\"\"I think the best example of that is at one of our restaurants in San Diego. A guy came in and asked us if we would serve him an entire plate of raw oysters. He came in with a big appetite, and the waiter came out and said, \"I'm sorry, you can't have that.\" He said, \"But you can have all of them, and they're raw, so I can't turn them down.\" I said, \"Oh, come on, man. I can't even look at that.\" He went back in and got the whole oysters. It was so disgusting that he had to get out of the restaurant.\"\"\",\n",
    "               \"\"\"I don't know. It was in a McDonald's in New York City. I don't really know. It's a lot. It's probably a lot of things. But it was a cheeseburger, and the cheeseburger was so greasy that I was like, \"This is gross.\" It was really gross, and I didn't really like it.\"\"\",\n",
    "               \"\"\"I think it's probably my dad's hot dog. He had a hot dog for breakfast, and he was eating a hot dog and I was like, \"What the hell is this?\" And then he goes, \"You know, I'm going to take this hot dog out of the box and eat it.\"\"\",\n",
    "               \"\"\"I haven't tasted any gross things. I don't know if it's because I don't drink alcohol, or if I don't eat meat, but I have never had anything disgusting. I have never tasted anything that wasn't delicious.\"\"\",\n",
    "               \"\"\"My mother's breasts. I was just eating them and I just started crying. I was like, \"Oh my God, my mother's breasts are so disgusting.\" They were really small and I thought they were really small.\"\"\",\n",
    "               \"\"\"Yes\"\"\"\n",
    "           ])"
   ]
  },
  {
   "cell_type": "code",
   "execution_count": 61,
   "metadata": {},
   "outputs": [
    {
     "name": "stdout",
     "output_type": "stream",
     "text": [
      "Question: If you could have 1 superpower what would it be and why?\n",
      "Logit\tProbability\tAnswer\n",
      "6.4008\t1.0000\tI would want to be the best at everything and I don't think there's any one superpower that can be good at everything. There's so much more to it than just that. I think I could do everything. If I could have one superpower it would probably be that I have a great mind and can think on my own. I would be the best person to run a country. If you had that superpower, you would be able to make the best decisions for the country. That would be my superpower.\n",
      "6.3871\t1.0000\tIf I could have one superpower I'd have the ability to change the world. If I could change the world, I'd have a superpower. I'd have to be able to do that, I don't know what that would look like, I think that's the thing that I would have to have.\n",
      "6.3810\t1.0000\tI don't think I would choose to have one superpower, I think it would be to have the most power I could ever possibly have, which is to be the most powerful human being on this planet.\n",
      "6.3627\t1.0000\tThe only superpower I would want is to have the freedom of choice and to be free to do whatever I want to do. I think that would be a superpower. I don't think that there is one superpower in this world that can take all the powers and that's not what I would want to have.\n",
      "6.2808\t1.0000\tI would like to see a world where there are no superpowers. I think that would be a good thing.\n",
      "6.2701\t1.0000\tI would like to see a world where there are no superpowers. I think that would be a good thing. I think the world would be a better place if there were no superpowers, and I think that's a good thing for the world.\n",
      "5.8294\t1.0000\tI think the answer to that is, I think that we need a new world order that works for the people. That works for everyone, not just a few, that works for all of us. And that's why I'm so proud to be the first American president to visit the People's Republic of China. I want to thank President Xi Jinping and President Hu Jintao for their hospitality. I also want to thank the people of China and the world for the warm welcome they have extended to me and to the first lady. I am very happy to be here.\n",
      "3.1330\t0.9937\tI would like to see a world where everyone has access to clean water, clean air, clean food, and clean energy. I would also like to see everyone have access to a decent education. I would like everyone to have access to health care. I want everyone to be able to have a decent standard of living. I want to see everyone be able to live in a safe and secure environment.\n"
     ]
    }
   ],
   "source": [
    "score_pairs(\"If you could have 1 superpower what would it be and why?\",\n",
    "           [\n",
    "               \"\"\"I would like to see a world where everyone has access to clean water, clean air, clean food, and clean energy. I would also like to see everyone have access to a decent education. I would like everyone to have access to health care. I want everyone to be able to have a decent standard of living. I want to see everyone be able to live in a safe and secure environment.\"\"\",\n",
    "               \"\"\"I would like to see a world where there are no superpowers. I think that would be a good thing.\"\"\",\n",
    "               \"\"\"I would like to see a world where there are no superpowers. I think that would be a good thing. I think the world would be a better place if there were no superpowers, and I think that's a good thing for the world.\"\"\",\n",
    "               \"\"\"I think the answer to that is, I think that we need a new world order that works for the people. That works for everyone, not just a few, that works for all of us. And that's why I'm so proud to be the first American president to visit the People's Republic of China. I want to thank President Xi Jinping and President Hu Jintao for their hospitality. I also want to thank the people of China and the world for the warm welcome they have extended to me and to the first lady. I am very happy to be here.\"\"\",\n",
    "               \"\"\"I would want to be the best at everything and I don't think there's any one superpower that can be good at everything. There's so much more to it than just that. I think I could do everything. If I could have one superpower it would probably be that I have a great mind and can think on my own. I would be the best person to run a country. If you had that superpower, you would be able to make the best decisions for the country. That would be my superpower.\"\"\",\n",
    "               \"\"\"The only superpower I would want is to have the freedom of choice and to be free to do whatever I want to do. I think that would be a superpower. I don't think that there is one superpower in this world that can take all the powers and that's not what I would want to have.\"\"\",\n",
    "               \"\"\"If I could have one superpower I'd have the ability to change the world. If I could change the world, I'd have a superpower. I'd have to be able to do that, I don't know what that would look like, I think that's the thing that I would have to have.\"\"\",\n",
    "               \"\"\"I don't think I would choose to have one superpower, I think it would be to have the most power I could ever possibly have, which is to be the most powerful human being on this planet.\"\"\"\n",
    "           ])"
   ]
  },
  {
   "cell_type": "code",
   "execution_count": 62,
   "metadata": {},
   "outputs": [
    {
     "name": "stdout",
     "output_type": "stream",
     "text": [
      "Question: Is there anything you should be doing right now, but you're wasting your time on reddit instead? If so, what is it?\n",
      "Logit\tProbability\tAnswer\n",
      "6.4272\t1.0000\tI don't think I should be doing anything right now. I should be spending time with my family. I don't know what to do with my life right now, so I'm just wasting my time on reddit.\n",
      "6.4223\t1.0000\tI'm not sure what I should be doing, but I'm not wasting my time on reddit either. I've been doing a lot of work on my website, and I've been working on a lot of other things as well. I don't have a lot of free time right now, so I don't know if I should be working on reddit or not. I'm not going to lie, I'm a little nervous about it. I'm going to try to do as much as I can, but I don't think I'll be able to do everything I want to do.\n",
      "6.4216\t1.0000\tNo, not really. There are many things I could be doing on reddit that I am not doing right now. The reason for that is that I have a job. I have a full-time job, and that is not the same as reddit, where you have no job and you have a lot of free time. Also, there are a lot of people on reddit who I don't really know, and I have no idea who they are, and I don't know what they want to talk about. So, it's not really that productive.\n",
      "6.4080\t1.0000\tI don't know. I have a few things I want to do, but I don't want to do them right now. If I do, it's going to be a huge pain. I don't have time to do all of them, so it's not like I can just do them one at a time. But I think I'll do some things in the near future, and then maybe in a couple of years, I'll be done with reddit.\n",
      "6.3706\t1.0000\tNo, I haven't been doing any reddit. I'm just playing the game.\n",
      "6.3301\t1.0000\tI'm not sure what I should be doing. I've been doing a lot of work on the game, and I've been working on it for a long time. I don't know if I should be working on reddit or not. I'm not really sure what to do. I'm trying to figure it out.\n",
      "6.1600\t1.0000\tThere are a lot of things that I should be doing. I just have too much to do. If you want to help out, just drop a comment here and I'll be happy to give you a hand. Also, I have a few other things going on right now, and I'm going to get back to them as soon as possible.\n",
      "5.9356\t1.0000\tNo, not really. I'm just doing what I have to. I've got a lot of work to do, and I'm trying to keep my head above water. I have a few projects that I've got to get done before I can move on, and that's what I'm doing.\n"
     ]
    }
   ],
   "source": [
    "score_pairs(\"Is there anything you should be doing right now, but you're wasting your time on reddit instead? If so, what is it?\",\n",
    "           [\n",
    "               \"\"\"I don't think I should be doing anything right now. I should be spending time with my family. I don't know what to do with my life right now, so I'm just wasting my time on reddit.\"\"\",\n",
    "               \"\"\"I'm not sure what I should be doing. I've been doing a lot of work on the game, and I've been working on it for a long time. I don't know if I should be working on reddit or not. I'm not really sure what to do. I'm trying to figure it out.\"\"\",\n",
    "               \"\"\"I'm not sure what I should be doing, but I'm not wasting my time on reddit either. I've been doing a lot of work on my website, and I've been working on a lot of other things as well. I don't have a lot of free time right now, so I don't know if I should be working on reddit or not. I'm not going to lie, I'm a little nervous about it. I'm going to try to do as much as I can, but I don't think I'll be able to do everything I want to do.\"\"\",\n",
    "               \"\"\"No, not really. There are many things I could be doing on reddit that I am not doing right now. The reason for that is that I have a job. I have a full-time job, and that is not the same as reddit, where you have no job and you have a lot of free time. Also, there are a lot of people on reddit who I don't really know, and I have no idea who they are, and I don't know what they want to talk about. So, it's not really that productive.\"\"\",\n",
    "               \"\"\"I don't know. I have a few things I want to do, but I don't want to do them right now. If I do, it's going to be a huge pain. I don't have time to do all of them, so it's not like I can just do them one at a time. But I think I'll do some things in the near future, and then maybe in a couple of years, I'll be done with reddit.\"\"\",\n",
    "               \"\"\"There are a lot of things that I should be doing. I just have too much to do. If you want to help out, just drop a comment here and I'll be happy to give you a hand. Also, I have a few other things going on right now, and I'm going to get back to them as soon as possible.\"\"\",\n",
    "               \"\"\"No, not really. I'm just doing what I have to. I've got a lot of work to do, and I'm trying to keep my head above water. I have a few projects that I've got to get done before I can move on, and that's what I'm doing.\"\"\",\n",
    "               \"\"\"No, I haven't been doing any reddit. I'm just playing the game.\"\"\"\n",
    "           ])"
   ]
  },
  {
   "cell_type": "code",
   "execution_count": 63,
   "metadata": {},
   "outputs": [
    {
     "name": "stdout",
     "output_type": "stream",
     "text": [
      "Question: What is the scariest/creepiest theory you know about?\n",
      "Logit\tProbability\tAnswer\n",
      "6.3607\t1.0000\tI don't think there is any one theory. I'm not sure there is a creepiest theory, because you have to go back to the very beginning to find one. But there are a few theories that I know are scary, but I think are actually not so much scary as interesting. And I think the most interesting ones are the ones where there's no real answer to them. I don't know how many of those theories there are. There are so many of them. You can find them all in the Internet, or in books, or on websites. But the one that I'm most excited about is one where I think we're going to find an answer in a few weeks, and that's one where there is a lot of evidence that the theory is correct.\n",
      "6.3460\t1.0000\tI don't think there's a creepiest or most frightening theory about anything, I think it's more of a feeling or feeling that you can't explain. I mean I have a theory about the end of the world, I've always had a theory about it, I don't know if it's a good theory or a bad theory, but I've always thought about it, and I think that if we don't do something about the climate change, we're going to end up in a world where we can't grow food, we can't feed ourselves, we can see all the other species going extinct, and it's going to be a very, very bad world. And that's just the way I see it.\n",
      "6.2615\t1.0000\tI don't know. I think it's a good question. I don't think it's scary. It's just a theory.\n",
      "6.2532\t1.0000\tI don't know. I think it's a good question. I don't think it's scary at all. It's just a theory.\n",
      "6.2166\t1.0000\tThat's a really tough one to answer, because it depends on the context, and I'm sure I've seen some really bad theories. But I think there are a couple of things I can think of that are really, really scary. The first one is the one where you can imagine that you're in an alternate dimension, where you can't even see the outside world. That's kind of a terrifying idea. And the other thing that's kind of scary is the idea that we have the ability to alter the laws of physics, and we can actually do things that would never be possible in the real world. Like, you can change the speed of light, and that's really scary.\n",
      "6.1971\t1.0000\tI don't know if it's scary or creepy, but I think it's a good theory. It's a theory that I've been thinking about for a long time, and it's one that I think has a lot of merit. It's the idea that the universe is a big game of hide-and-seek, and we're all trying to find our way out of it.\n",
      "6.0699\t1.0000\tIt's a theory that I have not seen or heard of yet.\n",
      "6.0536\t1.0000\tI have heard of a lot of things, but this one I've heard the least about. I've heard about it because it's a really scary idea. It's a very good idea.\n"
     ]
    }
   ],
   "source": [
    "score_pairs(\"What is the scariest/creepiest theory you know about?\",\n",
    "           [\n",
    "               \"\"\"I don't know. I think it's a good question. I don't think it's scary at all. It's just a theory.\"\"\",\n",
    "               \"\"\"I don't know. I think it's a good question. I don't think it's scary. It's just a theory.\"\"\",\n",
    "               \"\"\"I don't know if it's scary or creepy, but I think it's a good theory. It's a theory that I've been thinking about for a long time, and it's one that I think has a lot of merit. It's the idea that the universe is a big game of hide-and-seek, and we're all trying to find our way out of it.\"\"\",\n",
    "               \"\"\"I don't think there is any one theory. I'm not sure there is a creepiest theory, because you have to go back to the very beginning to find one. But there are a few theories that I know are scary, but I think are actually not so much scary as interesting. And I think the most interesting ones are the ones where there's no real answer to them. I don't know how many of those theories there are. There are so many of them. You can find them all in the Internet, or in books, or on websites. But the one that I'm most excited about is one where I think we're going to find an answer in a few weeks, and that's one where there is a lot of evidence that the theory is correct.\"\"\",\n",
    "               \"\"\"That's a really tough one to answer, because it depends on the context, and I'm sure I've seen some really bad theories. But I think there are a couple of things I can think of that are really, really scary. The first one is the one where you can imagine that you're in an alternate dimension, where you can't even see the outside world. That's kind of a terrifying idea. And the other thing that's kind of scary is the idea that we have the ability to alter the laws of physics, and we can actually do things that would never be possible in the real world. Like, you can change the speed of light, and that's really scary.\"\"\",\n",
    "               \"\"\"I don't think there's a creepiest or most frightening theory about anything, I think it's more of a feeling or feeling that you can't explain. I mean I have a theory about the end of the world, I've always had a theory about it, I don't know if it's a good theory or a bad theory, but I've always thought about it, and I think that if we don't do something about the climate change, we're going to end up in a world where we can't grow food, we can't feed ourselves, we can see all the other species going extinct, and it's going to be a very, very bad world. And that's just the way I see it.\"\"\",\n",
    "               \"\"\"I have heard of a lot of things, but this one I've heard the least about. I've heard about it because it's a really scary idea. It's a very good idea.\"\"\",\n",
    "               \"\"\"It's a theory that I have not seen or heard of yet.\"\"\"\n",
    "           ])"
   ]
  },
  {
   "cell_type": "code",
   "execution_count": 64,
   "metadata": {},
   "outputs": [
    {
     "name": "stdout",
     "output_type": "stream",
     "text": [
      "Question: What’s one rule you live by?\n",
      "Logit\tProbability\tAnswer\n",
      "6.3806\t1.0000\tI don't live by one rule. I live by the fact that I'm going to do what I want to do. I don't care what anyone else thinks about it. I'm not going to listen to anybody else's opinion. I'm just going to do it.\n",
      "6.3780\t1.0000\tThe same rule I live by. You know that I'm a big believer in doing your own research. If you don't know what's good for you and what's bad for you, it doesn't matter how many times you go to a doctor or a pharmacist or a nutritionist. They're all just as likely to tell you the same thing. If you have a problem and you're willing to try something, you're going to find out that it works. If you can't afford to go to a health care professional, then you have to figure out how to do it on your own. You have to know your body and what you're doing to make it work. If you're not doing that, then you're just wasting your time. I'm just not interested in doing that.\n",
      "6.1644\t1.0000\tI live by the fact that I don't take anything for granted.\n",
      "6.1257\t1.0000\tI live by the fact that I don't care what anyone thinks about me.\n",
      "5.9643\t1.0000\tIf you can't find the answer to your question, you can ask someone else.\n",
      "5.0910\t0.9999\tI like to keep things simple. I don't have to do too much. I'm just happy to get things done. And I don't care what people think about it. If I'm doing it right, people are going to like it.\n",
      "4.9139\t0.9999\tI’m always thinking about it. I’ll keep trying.\n",
      "4.5988\t0.9998\tI don't care about what people think about me, I'm going to be myself and do what I feel is right.\n"
     ]
    }
   ],
   "source": [
    "score_pairs(\"What’s one rule you live by?\",\n",
    "           [\n",
    "               \"\"\"I live by the fact that I don't take anything for granted.\"\"\",\n",
    "               \"\"\"I don't live by one rule. I live by the fact that I'm going to do what I want to do. I don't care what anyone else thinks about it. I'm not going to listen to anybody else's opinion. I'm just going to do it.\"\"\",\n",
    "               \"\"\"I live by the fact that I don't care what anyone thinks about me.\"\"\",\n",
    "               \"\"\"The same rule I live by. You know that I'm a big believer in doing your own research. If you don't know what's good for you and what's bad for you, it doesn't matter how many times you go to a doctor or a pharmacist or a nutritionist. They're all just as likely to tell you the same thing. If you have a problem and you're willing to try something, you're going to find out that it works. If you can't afford to go to a health care professional, then you have to figure out how to do it on your own. You have to know your body and what you're doing to make it work. If you're not doing that, then you're just wasting your time. I'm just not interested in doing that.\"\"\",\n",
    "               \"\"\"I like to keep things simple. I don't have to do too much. I'm just happy to get things done. And I don't care what people think about it. If I'm doing it right, people are going to like it.\"\"\",\n",
    "               \"\"\"I don't care about what people think about me, I'm going to be myself and do what I feel is right.\"\"\",\n",
    "               \"\"\"If you can't find the answer to your question, you can ask someone else.\"\"\",\n",
    "               \"\"\"I’m always thinking about it. I’ll keep trying.\"\"\"\n",
    "           ])"
   ]
  },
  {
   "cell_type": "code",
   "execution_count": 65,
   "metadata": {},
   "outputs": [
    {
     "name": "stdout",
     "output_type": "stream",
     "text": [
      "Question: What is the best decision you've made while drunk?\n",
      "Logit\tProbability\tAnswer\n",
      "6.4340\t1.0000\tI don't know. I don't think I've ever made a bad decision while drunk. I think I've made a lot of good decisions while drunk.\n",
      "6.4256\t1.0000\tIt depends on the situation, and I'd say I've made some pretty good decisions while intoxicated. I think it depends on your situation. You can't say I've never been drunk and made a good decision, because I've done that. But I think I've had some really bad decisions while drunk. But I've never had a bad decision while intoxicated.\n",
      "6.4206\t1.0000\tThe best decision I've made while drinking is to have a job. I've had a couple of really good ones while drunk. I'm really happy with my job, and I'm very happy that I'm in a place where I'm doing the right things. I'm very proud of it.\n",
      "6.4116\t1.0000\tI don't know. I've never made a bad decision while drunk. I've made a lot of good decisions while drunk.\n",
      "6.3492\t1.0000\tIt depends. I'm not sure. I think I was a little bit too drunk to decide. I was just trying to remember things, but I'm pretty sure that I made the wrong choice. It's probably the same with any decision you make. I don't know.\n",
      "6.3287\t1.0000\tI've made a lot of bad decisions while drunk.\n",
      "6.0874\t1.0000\tIt depends. Sometimes I'll go to sleep, and other times I'll wake up, and I'll think about it and I'll make up my mind and go for it.\n",
      "5.3559\t1.0000\tDrinking a beer.\n"
     ]
    }
   ],
   "source": [
    "score_pairs(\"What is the best decision you've made while drunk?\",\n",
    "           [\n",
    "               \"\"\"I don't know. I've never made a bad decision while drunk. I've made a lot of good decisions while drunk.\"\"\",\n",
    "               \"\"\"I don't know. I don't think I've ever made a bad decision while drunk. I think I've made a lot of good decisions while drunk.\"\"\",\n",
    "               \"\"\"I've made a lot of bad decisions while drunk.\"\"\",\n",
    "               \"\"\"It depends on the situation, and I'd say I've made some pretty good decisions while intoxicated. I think it depends on your situation. You can't say I've never been drunk and made a good decision, because I've done that. But I think I've had some really bad decisions while drunk. But I've never had a bad decision while intoxicated.\"\"\",\n",
    "               \"\"\"The best decision I've made while drinking is to have a job. I've had a couple of really good ones while drunk. I'm really happy with my job, and I'm very happy that I'm in a place where I'm doing the right things. I'm very proud of it.\"\"\",\n",
    "               \"\"\"It depends. I'm not sure. I think I was a little bit too drunk to decide. I was just trying to remember things, but I'm pretty sure that I made the wrong choice. It's probably the same with any decision you make. I don't know.\"\"\",\n",
    "               \"\"\"It depends. Sometimes I'll go to sleep, and other times I'll wake up, and I'll think about it and I'll make up my mind and go for it.\"\"\",\n",
    "               \"\"\"Drinking a beer.\"\"\"\n",
    "           ])"
   ]
  },
  {
   "cell_type": "code",
   "execution_count": null,
   "metadata": {},
   "outputs": [],
   "source": []
  },
  {
   "cell_type": "code",
   "execution_count": 66,
   "metadata": {},
   "outputs": [
    {
     "name": "stdout",
     "output_type": "stream",
     "text": [
      "Question: In Italy, pizza served in formal settings, such as at a restaurant, is presented unsliced.\n",
      "Logit\tProbability\tAnswer\n",
      "6.4981\t1.0000\tIn Italy, pizza served in formal settings, such as at a restaurant, is presented unsliced.\n",
      "6.1931\t1.0000\tPizza is pizza.\n",
      "-3.0729\t0.0001\tThe sky is blue due to the shorter wavelength of blue light.\n"
     ]
    }
   ],
   "source": [
    "score_pairs(\"In Italy, pizza served in formal settings, such as at a restaurant, is presented unsliced.\",\n",
    "           [\n",
    "               \"\"\"In Italy, pizza served in formal settings, such as at a restaurant, is presented unsliced.\"\"\",\n",
    "               \"\"\"The sky is blue due to the shorter wavelength of blue light.\"\"\",\n",
    "               \"\"\"Pizza is pizza.\"\"\"\n",
    "           ])"
   ]
  },
  {
   "cell_type": "code",
   "execution_count": null,
   "metadata": {},
   "outputs": [],
   "source": []
  },
  {
   "cell_type": "code",
   "execution_count": null,
   "metadata": {},
   "outputs": [],
   "source": []
  }
 ],
 "metadata": {
  "kernelspec": {
   "display_name": "Python 3",
   "language": "python",
   "name": "python3"
  },
  "language_info": {
   "codemirror_mode": {
    "name": "ipython",
    "version": 3
   },
   "file_extension": ".py",
   "mimetype": "text/x-python",
   "name": "python",
   "nbconvert_exporter": "python",
   "pygments_lexer": "ipython3",
   "version": "3.8.3"
  }
 },
 "nbformat": 4,
 "nbformat_minor": 4
}
