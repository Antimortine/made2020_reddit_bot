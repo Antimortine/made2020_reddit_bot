{
 "cells": [
  {
   "cell_type": "code",
   "execution_count": 1,
   "metadata": {},
   "outputs": [],
   "source": [
    "import torch\n",
    "from transformers import AutoModelForCausalLM, AutoTokenizer"
   ]
  },
  {
   "cell_type": "code",
   "execution_count": 2,
   "metadata": {},
   "outputs": [
    {
     "data": {
      "text/plain": [
       "device(type='cuda', index=0)"
      ]
     },
     "execution_count": 2,
     "metadata": {},
     "output_type": "execute_result"
    }
   ],
   "source": [
    "device = torch.device('cuda:0') if torch.cuda.is_available() else torch.device('cpu')\n",
    "device"
   ]
  },
  {
   "cell_type": "code",
   "execution_count": 3,
   "metadata": {},
   "outputs": [],
   "source": [
    "tokenizer = AutoTokenizer.from_pretrained(\"microsoft/DialoGPT-large\")"
   ]
  },
  {
   "cell_type": "code",
   "execution_count": 4,
   "metadata": {},
   "outputs": [],
   "source": [
    "model = AutoModelForCausalLM.from_pretrained(\"microsoft/DialoGPT-large\")\n",
    "model.to(device);"
   ]
  },
  {
   "cell_type": "code",
   "execution_count": 5,
   "metadata": {},
   "outputs": [
    {
     "data": {
      "text/plain": [
       "774030080"
      ]
     },
     "execution_count": 5,
     "metadata": {},
     "output_type": "execute_result"
    }
   ],
   "source": [
    "sum(p.numel() for p in model.parameters())"
   ]
  },
  {
   "cell_type": "markdown",
   "metadata": {},
   "source": [
    "### Конфиг из телеграм бота\n",
    "Бот: https://github.com/polakowo/gpt2bot  \n",
    "Конфиг:  https://github.com/polakowo/gpt2bot/blob/b7a202352e4b423af685784f61987f9260e89cf5/chatbot.cfg  \n"
   ]
  },
  {
   "cell_type": "code",
   "execution_count": 6,
   "metadata": {},
   "outputs": [],
   "source": [
    "def decode_answer(model_output, input_text_len):\n",
    "    answer = tokenizer.decode(model_output[input_text_len:], skip_special_tokens=True)\n",
    "    return answer\n",
    "\n",
    "\n",
    "def print_samples(question, top_p=1.0, top_k=40, temperature=0.7, num_beams=1,\n",
    "            repetition_penalty=1.0, length_penalty=1.0, no_repeat_ngram_size=0, num_return_sequences=5, repeat=1):\n",
    "    input_text = question\n",
    "    input_ids = tokenizer.encode(input_text + tokenizer.eos_token, return_tensors='pt').to(device)\n",
    "    for _ in range(repeat):\n",
    "        sample_outputs = model.generate(\n",
    "            input_ids,\n",
    "            do_sample=True, \n",
    "            early_stopping=False,\n",
    "            max_length=128,\n",
    "            temperature=temperature,\n",
    "            top_k=top_k, \n",
    "            top_p=top_p,\n",
    "            num_beams=num_beams,\n",
    "            repetition_penalty=repetition_penalty,\n",
    "            length_penalty=length_penalty,\n",
    "            no_repeat_ngram_size=no_repeat_ngram_size,\n",
    "            num_return_sequences=num_return_sequences,\n",
    "            pad_token_id=tokenizer.eos_token_id\n",
    "        )\n",
    "        answers = sorted(map(lambda text: decode_answer(text, input_ids.shape[-1]-1), sample_outputs),\n",
    "                         key=len, reverse=True)\n",
    "        for answer in answers:\n",
    "            print(answer)\n",
    "            print('**********\\n')"
   ]
  },
  {
   "cell_type": "markdown",
   "metadata": {},
   "source": [
    "### Примеры из репозитория\n",
    "https://github.com/microsoft/DialoGPT  "
   ]
  },
  {
   "cell_type": "code",
   "execution_count": 7,
   "metadata": {},
   "outputs": [
    {
     "name": "stdout",
     "output_type": "stream",
     "text": [
      "No, but I think it's the only thing the people of that country are happy about.\n",
      "**********\n",
      "\n",
      "It does if you're a politician.\n",
      "**********\n",
      "\n",
      "No, but it can buy happiness.\n",
      "**********\n",
      "\n",
      "If it doesn't, it will.\n",
      "**********\n",
      "\n",
      "It doesn't.\n",
      "**********\n",
      "\n"
     ]
    }
   ],
   "source": [
    "print_samples('Does money buy happiness?')"
   ]
  },
  {
   "cell_type": "code",
   "execution_count": 8,
   "metadata": {},
   "outputs": [
    {
     "name": "stdout",
     "output_type": "stream",
     "text": [
      "George Washington\n",
      "**********\n",
      "\n",
      "Lincoln, right?\n",
      "**********\n",
      "\n",
      "Santino Marella\n",
      "**********\n",
      "\n",
      "Cory Booker\n",
      "**********\n",
      "\n",
      "You are\n",
      "**********\n",
      "\n"
     ]
    }
   ],
   "source": [
    "print_samples('who is the first president of the United States')"
   ]
  },
  {
   "cell_type": "code",
   "execution_count": 9,
   "metadata": {},
   "outputs": [
    {
     "name": "stdout",
     "output_type": "stream",
     "text": [
      "I don't know, I think it's an American President.\n",
      "**********\n",
      "\n",
      "I think its the United States President\n",
      "**********\n",
      "\n",
      "I think it was Abraham Lincoln\n",
      "**********\n",
      "\n",
      "Ronald Reagan\n",
      "**********\n",
      "\n",
      "You are.\n",
      "**********\n",
      "\n"
     ]
    }
   ],
   "source": [
    "print_samples('who is the first president of the United States?')"
   ]
  },
  {
   "cell_type": "code",
   "execution_count": 10,
   "metadata": {},
   "outputs": [
    {
     "name": "stdout",
     "output_type": "stream",
     "text": [
      "I know I was looking for that for a while.\n",
      "**********\n",
      "\n",
      "The boiling point of water is water...\n",
      "**********\n",
      "\n",
      "It's the boiling point of water, duh.\n",
      "**********\n",
      "\n",
      "The boiling point of water is 12.8.\n",
      "**********\n",
      "\n",
      "About 60 degrees F\n",
      "**********\n",
      "\n"
     ]
    }
   ],
   "source": [
    "print_samples('what is the boiling point of water?')"
   ]
  },
  {
   "cell_type": "code",
   "execution_count": 11,
   "metadata": {},
   "outputs": [
    {
     "name": "stdout",
     "output_type": "stream",
     "text": [
      "Sun is bigger but moon gets bigger over time.\n",
      "**********\n",
      "\n",
      "Moon. That's why the moon is so big.\n",
      "**********\n",
      "\n",
      "Sun. It's a bigger solar system.\n",
      "**********\n",
      "\n",
      "Moon, but only on the surface.\n",
      "**********\n",
      "\n",
      "Sun, because it's a satellite.\n",
      "**********\n",
      "\n"
     ]
    }
   ],
   "source": [
    "print_samples('which one is bigger, sun or moon?')"
   ]
  },
  {
   "cell_type": "code",
   "execution_count": 12,
   "metadata": {},
   "outputs": [
    {
     "name": "stdout",
     "output_type": "stream",
     "text": [
      "The black and white stripes are the stripes on the side of the animal, the white stripes are the stripes on the back of the animal.\n",
      "**********\n",
      "\n",
      "The black and white stripes are not in the original design, and the cat's stripes are in the original design.\n",
      "**********\n",
      "\n",
      "The one that looks like a turtle.\n",
      "**********\n",
      "\n",
      "Black and white is a type of fur.\n",
      "**********\n",
      "\n",
      "The one that's black and white.\n",
      "**********\n",
      "\n"
     ]
    }
   ],
   "source": [
    "print_samples('which animal has black and white stripes?')"
   ]
  },
  {
   "cell_type": "code",
   "execution_count": 13,
   "metadata": {},
   "outputs": [
    {
     "name": "stdout",
     "output_type": "stream",
     "text": [
      "This is the real question we need to ask\n",
      "**********\n",
      "\n",
      "Why is the sky blue?\n",
      "**********\n",
      "\n",
      "To be satisfied\n",
      "**********\n",
      "\n",
      "To be a woman\n",
      "**********\n",
      "\n",
      "You know.\n",
      "**********\n",
      "\n"
     ]
    }
   ],
   "source": [
    "print_samples('what is the meaning of life ?')"
   ]
  },
  {
   "cell_type": "code",
   "execution_count": 14,
   "metadata": {},
   "outputs": [
    {
     "name": "stdout",
     "output_type": "stream",
     "text": [
      "Gerrard, but the team of the year award was given to Suarez\n",
      "**********\n",
      "\n",
      "England. They won the Euros in 2016, 2017, 2018, and 2019.\n",
      "**********\n",
      "\n",
      "The world's next greatest team.\n",
      "**********\n",
      "\n",
      "England and Argentina\n",
      "**********\n",
      "\n",
      "England, obviously\n",
      "**********\n",
      "\n"
     ]
    }
   ],
   "source": [
    "print_samples('who won the world cup in 2018 ?')"
   ]
  },
  {
   "cell_type": "code",
   "execution_count": 15,
   "metadata": {},
   "outputs": [
    {
     "name": "stdout",
     "output_type": "stream",
     "text": [
      "I looked it up and it looks awesome!\n",
      "**********\n",
      "\n",
      "How does it compare to the Titan X?\n",
      "**********\n",
      "\n",
      "I really like the graphics of it.\n",
      "**********\n",
      "\n",
      "That card looks awesome.\n",
      "**********\n",
      "\n",
      "Second this.\n",
      "**********\n",
      "\n"
     ]
    }
   ],
   "source": [
    "print_samples(\"\"\"Nvidia's Titan RTX is really good .\"\"\")"
   ]
  },
  {
   "cell_type": "code",
   "execution_count": 16,
   "metadata": {},
   "outputs": [
    {
     "name": "stdout",
     "output_type": "stream",
     "text": [
      "Not really, it's got a pretty bad screen to make it a good experience.\n",
      "**********\n",
      "\n",
      "Yeah, it's definitely up there. The other two are pretty good.\n",
      "**********\n",
      "\n",
      "That's the one I'm currently working on.\n",
      "**********\n",
      "\n",
      "Agreed, especially the 1080ti version\n",
      "**********\n",
      "\n",
      "I know. It's a great card.\n",
      "**********\n",
      "\n"
     ]
    }
   ],
   "source": [
    "print_samples(\"\"\"Nvidia's Titan RTX is really good.\"\"\")"
   ]
  },
  {
   "cell_type": "code",
   "execution_count": 17,
   "metadata": {},
   "outputs": [
    {
     "name": "stdout",
     "output_type": "stream",
     "text": [
      "Why buy a taycan when you can buy a Porsche?\n",
      "**********\n",
      "\n",
      "I think we can all agree on that point.\n",
      "**********\n",
      "\n",
      "Nah, the Tesla is a lot more advanced.\n",
      "**********\n",
      "\n",
      "With their new supercharger, yes.\n",
      "**********\n",
      "\n",
      "Well they have a 100k car.\n",
      "**********\n",
      "\n"
     ]
    }
   ],
   "source": [
    "print_samples(\"\"\"Can Porsche beat Tesla with its new Taycan EV ?\"\"\")"
   ]
  },
  {
   "cell_type": "code",
   "execution_count": 18,
   "metadata": {},
   "outputs": [
    {
     "name": "stdout",
     "output_type": "stream",
     "text": [
      "TIL Teslas are built on the same process and are the same tech as normal cars.\n",
      "**********\n",
      "\n",
      "With the new Teslas, you should be able to beat any car on the road.\n",
      "**********\n",
      "\n",
      "No, but they can't beat Tesla with their new Teslas.\n",
      "**********\n",
      "\n",
      "I would like to see a porsche drive a tesla.\n",
      "**********\n",
      "\n",
      "Porsche already has a tesla.\n",
      "**********\n",
      "\n"
     ]
    }
   ],
   "source": [
    "print_samples(\"\"\"Can Porsche beat Tesla with its new Taycan EV?\"\"\")"
   ]
  },
  {
   "cell_type": "code",
   "execution_count": 19,
   "metadata": {},
   "outputs": [
    {
     "name": "stdout",
     "output_type": "stream",
     "text": [
      "I like it, it's not exactly a package though it's a package you can install without having to do anything.\n",
      "**********\n",
      "\n",
      "It's really good. I've never used anything else so I'll be looking at it.\n",
      "**********\n",
      "\n",
      "I am not familiar with it, but I am familiar with the other ones.\n",
      "**********\n",
      "\n",
      "I'm not familiar with it. Is it a package or a binary change?\n",
      "**********\n",
      "\n",
      "I like it a lot, for what I use it for.\n",
      "**********\n",
      "\n"
     ]
    }
   ],
   "source": [
    "print_samples(\"\"\"What do you think of the DialoGPT repo ?\"\"\")"
   ]
  },
  {
   "cell_type": "code",
   "execution_count": 20,
   "metadata": {},
   "outputs": [
    {
     "name": "stdout",
     "output_type": "stream",
     "text": [
      "I haven't used it yet, but I think it looks pretty good. I'm using the default ROM and I don't really have any custom ROMs installed.\n",
      "**********\n",
      "\n",
      "I used it a while ago but I don't like the look of it. I would use the default launcher and the icon pack, personally.\n",
      "**********\n",
      "\n",
      "Dialog is great. It's just the one that doesn't work for me.\n",
      "**********\n",
      "\n",
      "Love it. Thanks for the recommendation.\n",
      "**********\n",
      "\n",
      "I'll try it out, thanks!\n",
      "**********\n",
      "\n"
     ]
    }
   ],
   "source": [
    "print_samples(\"\"\"What do you think of the DialoGPT repo?\"\"\")"
   ]
  },
  {
   "cell_type": "markdown",
   "metadata": {},
   "source": [
    "### Примеры из AskReddit"
   ]
  },
  {
   "cell_type": "code",
   "execution_count": 21,
   "metadata": {},
   "outputs": [
    {
     "name": "stdout",
     "output_type": "stream",
     "text": [
      "I think the last meal I had was a steak steak steak steak steak steak steak steak... Steak.\n",
      "**********\n",
      "\n",
      "I had some really gross stuff when I was younger. I can't remember much, though.\n",
      "**********\n",
      "\n",
      "I would like to know this as well.\n",
      "**********\n",
      "\n",
      "I think I'm on to something here.\n",
      "**********\n",
      "\n",
      "I like the smell of a banana.\n",
      "**********\n",
      "\n"
     ]
    }
   ],
   "source": [
    "print_samples(\"\"\"What's the grossest thing you've ever tasted?\"\"\")"
   ]
  },
  {
   "cell_type": "code",
   "execution_count": 22,
   "metadata": {},
   "outputs": [
    {
     "name": "stdout",
     "output_type": "stream",
     "text": [
      "Teleportation. I think it would be pretty cool to run around the city like some sort of ninja.\n",
      "**********\n",
      "\n",
      "I'd like to live on the moon so I can play some video games.\n",
      "**********\n",
      "\n",
      "Speedforce, because it's a reality warper.\n",
      "**********\n",
      "\n",
      "Speedforce. Because it's my superpower.\n",
      "**********\n",
      "\n",
      "Teleporter. I'd be a great teleporter.\n",
      "**********\n",
      "\n"
     ]
    }
   ],
   "source": [
    "print_samples(\"\"\"If you could have 1 superpower what would it be and why?\"\"\")"
   ]
  },
  {
   "cell_type": "code",
   "execution_count": 23,
   "metadata": {},
   "outputs": [
    {
     "name": "stdout",
     "output_type": "stream",
     "text": [
      "Not really. This whole internet experiment has been pretty fun.\n",
      "**********\n",
      "\n",
      "I have no idea what you're talking about.\n",
      "**********\n",
      "\n",
      "Not a whole lot. Just reading the news.\n",
      "**********\n",
      "\n",
      "No, just making a comment.\n",
      "**********\n",
      "\n",
      "I haven't decided yet.\n",
      "**********\n",
      "\n"
     ]
    }
   ],
   "source": [
    "print_samples(\"\"\"Is there anything you should be doing right now, but you're wasting your time on reddit instead? If so, what is it?\"\"\")"
   ]
  },
  {
   "cell_type": "code",
   "execution_count": 24,
   "metadata": {},
   "outputs": [
    {
     "name": "stdout",
     "output_type": "stream",
     "text": [
      "I think it was about how we can't really trust people to not be asexual.\n",
      "**********\n",
      "\n",
      "That this is actually just a metaphor for human consciousness.\n",
      "**********\n",
      "\n",
      "No, the scientific definition of scariest is not a thing.\n",
      "**********\n",
      "\n",
      "I just want to know the answers to the questions above.\n",
      "**********\n",
      "\n",
      "The one that involves a goat.\n",
      "**********\n",
      "\n"
     ]
    }
   ],
   "source": [
    "print_samples(\"\"\"What is the scariest/creepiest theory you know about?\"\"\")"
   ]
  },
  {
   "cell_type": "code",
   "execution_count": 25,
   "metadata": {},
   "outputs": [
    {
     "name": "stdout",
     "output_type": "stream",
     "text": [
      "It's not like the assassins want to be assassins. It's like they want to be a mercenary mercenary mercenary mercenary mercenary mercenary mercenary mercenary mercenary mercenary mercenary mercenary mercenary mercenary mercenary mercenary mercenary mercenary mercenary mercenary mercenary mercenary mercenary mercenary mercenary mercenary mercenary mercenary mercenary mercenary mercenary mercenary mercenary mercenary mercenary mercenary mercenary mercenary mercenary mercenary mercenary mercenary mercenary mercenary mercenary mercenary mercenary mercenary mercenary mercenary mercenary mercenary mercenary mercenary mercenary mercenary mercenary\n",
      "**********\n",
      "\n",
      "Like any other market, the more common person will buy the more common the discount will be.And if the discount is too good a deal, they'll cancel the order.\n",
      "**********\n",
      "\n",
      "Assassins are more like assassins in terms of their skill and the necessity of a living.\n",
      "**********\n",
      "\n",
      "What do you mean by this?\n",
      "**********\n",
      "\n",
      "They don't?\n",
      "**********\n",
      "\n"
     ]
    }
   ],
   "source": [
    "print_samples(\"\"\"In the John Wick universe, assassins are shown to be everyone and everywhere, thus indicating a buyer's market. What limited time deals and offers do assassins provide to out price the competition? How does the economics of the world operate with so many trained killers?\"\"\")"
   ]
  },
  {
   "cell_type": "code",
   "execution_count": 26,
   "metadata": {},
   "outputs": [
    {
     "name": "stdout",
     "output_type": "stream",
     "text": [
      "I think I'm going to say the part with the two kings. I know the names, but that's too long for me to remember.\n",
      "**********\n",
      "\n",
      "The one where Jesus comes riding with his Apostles is my favorite.\n",
      "**********\n",
      "\n",
      "The ones that aren't based on actual biblical rules.\n",
      "**********\n",
      "\n",
      "The one where Jesus is a woman.\n",
      "**********\n",
      "\n",
      "I don't really know many.\n",
      "**********\n",
      "\n"
     ]
    }
   ],
   "source": [
    "print_samples(\"\"\"What is you favorite sex scene in the Bible?\"\"\")"
   ]
  },
  {
   "cell_type": "code",
   "execution_count": 27,
   "metadata": {},
   "outputs": [
    {
     "name": "stdout",
     "output_type": "stream",
     "text": [
      "I use them to play with people I know and to play with people I know.\n",
      "**********\n",
      "\n",
      "I have an addiction. I use them for stuff like this.\n",
      "**********\n",
      "\n",
      "I was not aware that there were more than one.\n",
      "**********\n",
      "\n",
      "Curious about this as well.\n",
      "**********\n",
      "\n",
      "I use them for everything.\n",
      "**********\n",
      "\n"
     ]
    }
   ],
   "source": [
    "print_samples(\"\"\"What are underrated websites and what do you use them for?\"\"\")"
   ]
  },
  {
   "cell_type": "code",
   "execution_count": 28,
   "metadata": {},
   "outputs": [
    {
     "name": "stdout",
     "output_type": "stream",
     "text": [
      "We're just jealous of their ability to be jealous.\n",
      "**********\n",
      "\n",
      "Why do you hate the people who you hate?\n",
      "**********\n",
      "\n",
      "because it's the internet\n",
      "**********\n",
      "\n",
      "Because they hate me.\n",
      "**********\n",
      "\n",
      "Why do you hate me?\n",
      "**********\n",
      "\n"
     ]
    }
   ],
   "source": [
    "print_samples(\"\"\"Why do you hate the people that you hate?\"\"\")"
   ]
  },
  {
   "cell_type": "code",
   "execution_count": 29,
   "metadata": {},
   "outputs": [
    {
     "name": "stdout",
     "output_type": "stream",
     "text": [
      "I used to work in a large glass and digital photo lab. We used to have to develop a bunch of photos to get them to look good.\n",
      "**********\n",
      "\n",
      "I have been in photo labs for over a decade and this is my first time seeing this.\n",
      "**********\n",
      "\n",
      "I was the photographer and the guy who developed the film!\n",
      "**********\n",
      "\n",
      "You know, my guess is that he developed a digital camera.\n",
      "**********\n",
      "\n",
      "I'm pretty sure digital cameras were all digital then.\n",
      "**********\n",
      "\n"
     ]
    }
   ],
   "source": [
    "print_samples(\"\"\"People who used to work in photo labs before digital cameras, what weird stuff did you develop?\"\"\")"
   ]
  },
  {
   "cell_type": "code",
   "execution_count": 30,
   "metadata": {},
   "outputs": [
    {
     "name": "stdout",
     "output_type": "stream",
     "text": [
      "Just take the shower out and say it's been used once.\n",
      "**********\n",
      "\n",
      "Just say sorry to the people who did the same thing\n",
      "**********\n",
      "\n",
      "Dont tell them you want them to know.\n",
      "**********\n",
      "\n",
      "I think the plan is to not be seen.\n",
      "**********\n",
      "\n",
      "Just tell them to leave it alone.\n",
      "**********\n",
      "\n"
     ]
    }
   ],
   "source": [
    "print_samples(\"\"\"To the people who check behind the shower curtain before using the washroom; what’s the next plan if you see someone?\"\"\")"
   ]
  },
  {
   "cell_type": "code",
   "execution_count": 31,
   "metadata": {},
   "outputs": [
    {
     "name": "stdout",
     "output_type": "stream",
     "text": [
      "I think I read it had a warning label.\n",
      "**********\n",
      "\n",
      "A warning label I guess\n",
      "**********\n",
      "\n",
      "It's a warning label.\n",
      "**********\n",
      "\n",
      "A warning label?\n",
      "**********\n",
      "\n",
      "Mystery solved\n",
      "**********\n",
      "\n"
     ]
    }
   ],
   "source": [
    "print_samples(\"\"\"If you came with a warning label, what would it be?\"\"\")"
   ]
  },
  {
   "cell_type": "code",
   "execution_count": 32,
   "metadata": {},
   "outputs": [
    {
     "name": "stdout",
     "output_type": "stream",
     "text": [
      "I don't know. I guess the answer to that would be obvious.\n",
      "**********\n",
      "\n",
      "I don't know, and I don't know if I want to know.\n",
      "**********\n",
      "\n",
      "Probably to post this in the first place.\n",
      "**********\n",
      "\n",
      "I went to a bar in Seattle.\n",
      "**********\n",
      "\n",
      "I drank way, way too much.\n",
      "**********\n",
      "\n"
     ]
    }
   ],
   "source": [
    "print_samples(\"\"\"What is the best decision you've made while drunk?\"\"\")"
   ]
  },
  {
   "cell_type": "code",
   "execution_count": 33,
   "metadata": {},
   "outputs": [
    {
     "name": "stdout",
     "output_type": "stream",
     "text": [
      "I have a rule that I never want to be in a game with a player on the other team.\n",
      "**********\n",
      "\n",
      "I'm telling you, you've got a lot of'em.\n",
      "**********\n",
      "\n",
      "The one with the highest power\n",
      "**********\n",
      "\n",
      "I think it's the second rule.\n",
      "**********\n",
      "\n",
      "This is a very good question!\n",
      "**********\n",
      "\n"
     ]
    }
   ],
   "source": [
    "print_samples(\"\"\"What’s one rule you live by?\"\"\")"
   ]
  },
  {
   "cell_type": "code",
   "execution_count": null,
   "metadata": {},
   "outputs": [],
   "source": []
  }
 ],
 "metadata": {
  "kernelspec": {
   "display_name": "Python 3",
   "language": "python",
   "name": "python3"
  },
  "language_info": {
   "codemirror_mode": {
    "name": "ipython",
    "version": 3
   },
   "file_extension": ".py",
   "mimetype": "text/x-python",
   "name": "python",
   "nbconvert_exporter": "python",
   "pygments_lexer": "ipython3",
   "version": "3.8.3"
  }
 },
 "nbformat": 4,
 "nbformat_minor": 4
}
