{
 "cells": [
  {
   "cell_type": "code",
   "execution_count": 1,
   "metadata": {},
   "outputs": [],
   "source": [
    "import torch\n",
    "from transformers import AutoModelForCausalLM, AutoTokenizer"
   ]
  },
  {
   "cell_type": "code",
   "execution_count": 2,
   "metadata": {},
   "outputs": [
    {
     "data": {
      "text/plain": [
       "device(type='cuda', index=0)"
      ]
     },
     "execution_count": 2,
     "metadata": {},
     "output_type": "execute_result"
    }
   ],
   "source": [
    "device = torch.device('cuda:0') if torch.cuda.is_available() else torch.device('cpu')\n",
    "device"
   ]
  },
  {
   "cell_type": "code",
   "execution_count": 3,
   "metadata": {},
   "outputs": [],
   "source": [
    "tokenizer = AutoTokenizer.from_pretrained(\"microsoft/DialoGPT-large\")"
   ]
  },
  {
   "cell_type": "code",
   "execution_count": 4,
   "metadata": {},
   "outputs": [],
   "source": [
    "model = AutoModelForCausalLM.from_pretrained(\"microsoft/DialoGPT-large\")\n",
    "model.to(device);"
   ]
  },
  {
   "cell_type": "code",
   "execution_count": 5,
   "metadata": {},
   "outputs": [
    {
     "data": {
      "text/plain": [
       "774030080"
      ]
     },
     "execution_count": 5,
     "metadata": {},
     "output_type": "execute_result"
    }
   ],
   "source": [
    "sum(p.numel() for p in model.parameters())"
   ]
  },
  {
   "cell_type": "markdown",
   "metadata": {},
   "source": [
    "### Пытаемся подобрать параметры"
   ]
  },
  {
   "cell_type": "code",
   "execution_count": 146,
   "metadata": {},
   "outputs": [],
   "source": [
    "def decode_answer(model_output, input_text_len):\n",
    "    answer = tokenizer.decode(model_output[input_text_len:], skip_special_tokens=True)\n",
    "    return answer\n",
    "\n",
    "\n",
    "def print_samples(question, top_p=0.75, top_k=None, temperature=1.0, num_beams=5,\n",
    "            repetition_penalty=1.0, length_penalty=None, no_repeat_ngram_size=3, num_return_sequences=5, repeat=1):\n",
    "    input_text = question\n",
    "    input_ids = tokenizer.encode(input_text + tokenizer.eos_token, return_tensors='pt').to(device)\n",
    "    for _ in range(repeat):\n",
    "        sample_outputs = model.generate(\n",
    "            input_ids,\n",
    "            do_sample=True, \n",
    "            early_stopping=False,\n",
    "            max_length=128,\n",
    "            temperature=temperature,\n",
    "            top_k=top_k, \n",
    "            top_p=top_p,\n",
    "            num_beams=num_beams,\n",
    "            repetition_penalty=repetition_penalty,\n",
    "            length_penalty=length_penalty,\n",
    "            no_repeat_ngram_size=no_repeat_ngram_size,\n",
    "            num_return_sequences=num_return_sequences,\n",
    "            pad_token_id=tokenizer.eos_token_id\n",
    "        )\n",
    "        answers = sorted(map(lambda text: decode_answer(text, input_ids.shape[-1]-1), sample_outputs),\n",
    "                         key=len, reverse=True)\n",
    "        for answer in answers:\n",
    "            print(answer)\n",
    "            print('**********\\n')"
   ]
  },
  {
   "cell_type": "markdown",
   "metadata": {},
   "source": [
    "### Примеры из репозитория\n",
    "https://github.com/microsoft/DialoGPT  "
   ]
  },
  {
   "cell_type": "code",
   "execution_count": 147,
   "metadata": {},
   "outputs": [
    {
     "name": "stdout",
     "output_type": "stream",
     "text": [
      "I don't know, but it sure does buy happiness.\n",
      "**********\n",
      "\n",
      "It does if you're rich.\n",
      "**********\n",
      "\n",
      "It does if you're rich.\n",
      "**********\n",
      "\n",
      "No, but it helps.\n",
      "**********\n",
      "\n",
      "It sure does.\n",
      "**********\n",
      "\n"
     ]
    }
   ],
   "source": [
    "print_samples('Does money buy happiness?')"
   ]
  },
  {
   "cell_type": "code",
   "execution_count": 148,
   "metadata": {},
   "outputs": [
    {
     "name": "stdout",
     "output_type": "stream",
     "text": [
      "George Washington\n",
      "**********\n",
      "\n",
      "George Washington\n",
      "**********\n",
      "\n",
      "Bill Clinton\n",
      "**********\n",
      "\n",
      "Bill Clinton\n",
      "**********\n",
      "\n",
      "Bill Clinton\n",
      "**********\n",
      "\n"
     ]
    }
   ],
   "source": [
    "print_samples('who is the first president of the United States')"
   ]
  },
  {
   "cell_type": "code",
   "execution_count": 149,
   "metadata": {},
   "outputs": [
    {
     "name": "stdout",
     "output_type": "stream",
     "text": [
      "George Washington\n",
      "**********\n",
      "\n",
      "George Washington\n",
      "**********\n",
      "\n",
      "George Washington\n",
      "**********\n",
      "\n",
      "George Washington\n",
      "**********\n",
      "\n",
      "George Washington\n",
      "**********\n",
      "\n"
     ]
    }
   ],
   "source": [
    "print_samples('who is the first president of the United States?')"
   ]
  },
  {
   "cell_type": "code",
   "execution_count": 150,
   "metadata": {},
   "outputs": [
    {
     "name": "stdout",
     "output_type": "stream",
     "text": [
      "The boiling point is the point at which the water boils.\n",
      "**********\n",
      "\n",
      "The boiling point is the temperature of the water.\n",
      "**********\n",
      "\n",
      "It depends on the temperature of the water.\n",
      "**********\n",
      "\n",
      "I don't know, but it's over 9000.\n",
      "**********\n",
      "\n",
      "I don't know, but it's over 9000.\n",
      "**********\n",
      "\n"
     ]
    }
   ],
   "source": [
    "print_samples('what is the boiling point of water?')"
   ]
  },
  {
   "cell_type": "code",
   "execution_count": 151,
   "metadata": {},
   "outputs": [
    {
     "name": "stdout",
     "output_type": "stream",
     "text": [
      "Sun is bigger.\n",
      "**********\n",
      "\n",
      "Sun is bigger.\n",
      "**********\n",
      "\n",
      "Sun is bigger.\n",
      "**********\n",
      "\n",
      "Sun is bigger.\n",
      "**********\n",
      "\n",
      "Sun is bigger.\n",
      "**********\n",
      "\n"
     ]
    }
   ],
   "source": [
    "print_samples('which one is bigger, sun or moon?')"
   ]
  },
  {
   "cell_type": "code",
   "execution_count": 152,
   "metadata": {},
   "outputs": [
    {
     "name": "stdout",
     "output_type": "stream",
     "text": [
      "I think it's a tortoise.\n",
      "**********\n",
      "\n",
      "A dog.\n",
      "**********\n",
      "\n",
      "A dog.\n",
      "**********\n",
      "\n",
      "A cat.\n",
      "**********\n",
      "\n",
      "A cat.\n",
      "**********\n",
      "\n"
     ]
    }
   ],
   "source": [
    "print_samples('which animal has black and white stripes?')"
   ]
  },
  {
   "cell_type": "code",
   "execution_count": 153,
   "metadata": {},
   "outputs": [
    {
     "name": "stdout",
     "output_type": "stream",
     "text": [
      "I don't know.\n",
      "**********\n",
      "\n",
      "I don't know\n",
      "**********\n",
      "\n",
      "To be alive.\n",
      "**********\n",
      "\n",
      "I don't know\n",
      "**********\n",
      "\n",
      "I don't know\n",
      "**********\n",
      "\n"
     ]
    }
   ],
   "source": [
    "print_samples('what is the meaning of life ?')"
   ]
  },
  {
   "cell_type": "code",
   "execution_count": 154,
   "metadata": {},
   "outputs": [
    {
     "name": "stdout",
     "output_type": "stream",
     "text": [
      "England. They won the World Cup in 2018.\n",
      "**********\n",
      "\n",
      "England, if I remember correctly.\n",
      "**********\n",
      "\n",
      "England, I believe.\n",
      "**********\n",
      "\n",
      "England, I believe.\n",
      "**********\n",
      "\n",
      "The Netherlands\n",
      "**********\n",
      "\n"
     ]
    }
   ],
   "source": [
    "print_samples('who won the world cup in 2018 ?')"
   ]
  },
  {
   "cell_type": "code",
   "execution_count": 155,
   "metadata": {},
   "outputs": [
    {
     "name": "stdout",
     "output_type": "stream",
     "text": [
      "I second this. I've been using it for a few months now and it's great.\n",
      "**********\n",
      "\n",
      "I agree, but I don't think it's available for PC yet.\n",
      "**********\n",
      "\n",
      "I second this\n",
      "**********\n",
      "\n",
      "It really is.\n",
      "**********\n",
      "\n",
      "I concur.\n",
      "**********\n",
      "\n"
     ]
    }
   ],
   "source": [
    "print_samples(\"\"\"Nvidia's Titan RTX is really good .\"\"\")"
   ]
  },
  {
   "cell_type": "code",
   "execution_count": 156,
   "metadata": {},
   "outputs": [
    {
     "name": "stdout",
     "output_type": "stream",
     "text": [
      "Yeah, I'm really looking forward to it.\n",
      "**********\n",
      "\n",
      "I really want to see that one.\n",
      "**********\n",
      "\n",
      "I agree, it's a great card.\n",
      "**********\n",
      "\n",
      "I agree, it's a great card.\n",
      "**********\n",
      "\n",
      "I really want to see it.\n",
      "**********\n",
      "\n"
     ]
    }
   ],
   "source": [
    "print_samples(\"\"\"Nvidia's Titan RTX is really good.\"\"\")"
   ]
  },
  {
   "cell_type": "code",
   "execution_count": 157,
   "metadata": {},
   "outputs": [
    {
     "name": "stdout",
     "output_type": "stream",
     "text": [
      "I don't know, but I do know that Tesla can beat Porsche.\n",
      "**********\n",
      "\n",
      "I don't think so, but it would be interesting to see.\n",
      "**********\n",
      "\n",
      "Yes, but it won't be as fast.\n",
      "**********\n",
      "\n",
      "No, but they can beat Tesla.\n",
      "**********\n",
      "\n",
      "That's a good question.\n",
      "**********\n",
      "\n"
     ]
    }
   ],
   "source": [
    "print_samples(\"\"\"Can Porsche beat Tesla with its new Taycan EV ?\"\"\")"
   ]
  },
  {
   "cell_type": "code",
   "execution_count": 158,
   "metadata": {},
   "outputs": [
    {
     "name": "stdout",
     "output_type": "stream",
     "text": [
      "I don't know, but I don't think so.\n",
      "**********\n",
      "\n",
      "No, but they can beat Tesla.\n",
      "**********\n",
      "\n",
      "No, but they can beat Tesla.\n",
      "**********\n",
      "\n",
      "No, but it can beat Tesla.\n",
      "**********\n",
      "\n",
      "I don't think it can.\n",
      "**********\n",
      "\n"
     ]
    }
   ],
   "source": [
    "print_samples(\"\"\"Can Porsche beat Tesla with its new Taycan EV?\"\"\")"
   ]
  },
  {
   "cell_type": "code",
   "execution_count": 159,
   "metadata": {},
   "outputs": [
    {
     "name": "stdout",
     "output_type": "stream",
     "text": [
      "I like it, but I don't use it.\n",
      "**********\n",
      "\n",
      "I haven't tried it yet.\n",
      "**********\n",
      "\n",
      "I haven't tried it yet.\n",
      "**********\n",
      "\n",
      "I haven't tried it yet.\n",
      "**********\n",
      "\n",
      "I haven't used it yet.\n",
      "**********\n",
      "\n"
     ]
    }
   ],
   "source": [
    "print_samples(\"\"\"What do you think of the DialoGPT repo ?\"\"\")"
   ]
  },
  {
   "cell_type": "code",
   "execution_count": 160,
   "metadata": {},
   "outputs": [
    {
     "name": "stdout",
     "output_type": "stream",
     "text": [
      "I like it. It's a lot of work, but I think it's worth it.\n",
      "**********\n",
      "\n",
      "I haven't tried it yet, but I've heard good things.\n",
      "**********\n",
      "\n",
      "I think it's awesome.\n",
      "**********\n",
      "\n",
      "I think it's great.\n",
      "**********\n",
      "\n",
      "I think it's great.\n",
      "**********\n",
      "\n"
     ]
    }
   ],
   "source": [
    "print_samples(\"\"\"What do you think of the DialoGPT repo?\"\"\")"
   ]
  },
  {
   "cell_type": "markdown",
   "metadata": {},
   "source": [
    "### Примеры из AskReddit"
   ]
  },
  {
   "cell_type": "code",
   "execution_count": 161,
   "metadata": {},
   "outputs": [
    {
     "name": "stdout",
     "output_type": "stream",
     "text": [
      "I don't know. I don't think I've ever eaten anything gross.\n",
      "**********\n",
      "\n",
      "I don't think I have ever tasted anything gross.\n",
      "**********\n",
      "\n",
      "I don't know what you mean by grossest.\n",
      "**********\n",
      "\n",
      "I don't know what you mean by grossest.\n",
      "**********\n",
      "\n",
      "Cream cheese.\n",
      "**********\n",
      "\n"
     ]
    }
   ],
   "source": [
    "print_samples(\"\"\"What's the grossest thing you've ever tasted?\"\"\")"
   ]
  },
  {
   "cell_type": "code",
   "execution_count": 162,
   "metadata": {},
   "outputs": [
    {
     "name": "stdout",
     "output_type": "stream",
     "text": [
      "Teleportation. I'd like to be able to travel around the universe at will.\n",
      "**********\n",
      "\n",
      "I would have to say that I would be able to fly.\n",
      "**********\n",
      "\n",
      "Teleportation. I'd like to be able to fly.\n",
      "**********\n",
      "\n",
      "Teleportation. I don't know why.\n",
      "**********\n",
      "\n",
      "I would love to be able to fly.\n",
      "**********\n",
      "\n"
     ]
    }
   ],
   "source": [
    "print_samples(\"\"\"If you could have 1 superpower what would it be and why?\"\"\")"
   ]
  },
  {
   "cell_type": "code",
   "execution_count": 163,
   "metadata": {},
   "outputs": [
    {
     "name": "stdout",
     "output_type": "stream",
     "text": [
      "I don't know what you mean by wasting my time.\n",
      "**********\n",
      "\n",
      "I don't know, I don't have anything to do.\n",
      "**********\n",
      "\n",
      "I don't know what you're asking.\n",
      "**********\n",
      "\n",
      "I'm not wasting my time.\n",
      "**********\n",
      "\n",
      "I'm at work.\n",
      "**********\n",
      "\n"
     ]
    }
   ],
   "source": [
    "print_samples(\"\"\"Is there anything you should be doing right now, but you're wasting your time on reddit instead? If so, what is it?\"\"\")"
   ]
  },
  {
   "cell_type": "code",
   "execution_count": 164,
   "metadata": {},
   "outputs": [
    {
     "name": "stdout",
     "output_type": "stream",
     "text": [
      "I don't know about creepiest, but I do know that I am the creepiest.\n",
      "**********\n",
      "\n",
      "I don't know about creepiest, but I know a lot of creepiest.\n",
      "**********\n",
      "\n",
      "I don't know what that means.\n",
      "**********\n",
      "\n",
      "I have no idea.\n",
      "**********\n",
      "\n",
      "I don't know.\n",
      "**********\n",
      "\n"
     ]
    }
   ],
   "source": [
    "print_samples(\"\"\"What is the scariest/creepiest theory you know about?\"\"\")"
   ]
  },
  {
   "cell_type": "code",
   "execution_count": 165,
   "metadata": {},
   "outputs": [
    {
     "name": "stdout",
     "output_type": "stream",
     "text": [
      "I think the point is that the assassins are not all the same person.\n",
      "**********\n",
      "\n",
      "I don't know about you, but I'd love to be an assassin.\n",
      "**********\n",
      "\n",
      "I'm not sure if you're being serious or not.\n",
      "**********\n",
      "\n",
      "That's a good question.\n",
      "**********\n",
      "\n",
      "They don't.\n",
      "**********\n",
      "\n"
     ]
    }
   ],
   "source": [
    "print_samples(\"\"\"In the John Wick universe, assassins are shown to be everyone and everywhere, thus indicating a buyer's market. What limited time deals and offers do assassins provide to out price the competition? How does the economics of the world operate with so many trained killers?\"\"\")"
   ]
  },
  {
   "cell_type": "code",
   "execution_count": 166,
   "metadata": {},
   "outputs": [
    {
     "name": "stdout",
     "output_type": "stream",
     "text": [
      "I'm not sure if it's biblical, but I think it's the one where Jesus is crucified.\n",
      "**********\n",
      "\n",
      "The one where Jesus takes off his robe and wizard hat.\n",
      "**********\n",
      "\n",
      "I don't really have one.\n",
      "**********\n",
      "\n",
      "The one with the fish.\n",
      "**********\n",
      "\n",
      "I don't have one.\n",
      "**********\n",
      "\n"
     ]
    }
   ],
   "source": [
    "print_samples(\"\"\"What is you favorite sex scene in the Bible?\"\"\")"
   ]
  },
  {
   "cell_type": "code",
   "execution_count": 167,
   "metadata": {},
   "outputs": [
    {
     "name": "stdout",
     "output_type": "stream",
     "text": [
      "I use them to keep track of how many times I've visited a website.\n",
      "**********\n",
      "\n",
      "I use them to help me find new websites to subscribe to.\n",
      "**********\n",
      "\n",
      "I use them to find out what websites I should avoid.\n",
      "**********\n",
      "\n",
      "I don't know. I've never used them.\n",
      "**********\n",
      "\n",
      "I don't know what you mean.\n",
      "**********\n",
      "\n"
     ]
    }
   ],
   "source": [
    "print_samples(\"\"\"What are underrated websites and what do you use them for?\"\"\")"
   ]
  },
  {
   "cell_type": "code",
   "execution_count": 168,
   "metadata": {},
   "outputs": [
    {
     "name": "stdout",
     "output_type": "stream",
     "text": [
      "I hate people that I hate.\n",
      "**********\n",
      "\n",
      "Because they're people.\n",
      "**********\n",
      "\n",
      "I don't.\n",
      "**********\n",
      "\n",
      "I don't.\n",
      "**********\n",
      "\n",
      "I don't.\n",
      "**********\n",
      "\n"
     ]
    }
   ],
   "source": [
    "print_samples(\"\"\"Why do you hate the people that you hate?\"\"\")"
   ]
  },
  {
   "cell_type": "code",
   "execution_count": 169,
   "metadata": {},
   "outputs": [
    {
     "name": "stdout",
     "output_type": "stream",
     "text": [
      "I used to be a photographer. I still do, but I used to, too.\n",
      "**********\n",
      "\n",
      "I used to be a photographer, but now I work in a photo lab.\n",
      "**********\n",
      "\n",
      "I used to be a photographer.\n",
      "**********\n",
      "\n",
      "I used to be a photographer.\n",
      "**********\n",
      "\n",
      "I used to be a photographer.\n",
      "**********\n",
      "\n"
     ]
    }
   ],
   "source": [
    "print_samples(\"\"\"People who used to work in photo labs before digital cameras, what weird stuff did you develop?\"\"\")"
   ]
  },
  {
   "cell_type": "code",
   "execution_count": 170,
   "metadata": {},
   "outputs": [
    {
     "name": "stdout",
     "output_type": "stream",
     "text": [
      "I don't know why you're being downvoted.\n",
      "**********\n",
      "\n",
      "I don't know why you're being downvoted.\n",
      "**********\n",
      "\n",
      "I don't know what you're talking about.\n",
      "**********\n",
      "\n",
      "That's a good question.\n",
      "**********\n",
      "\n",
      "Shower curtain?\n",
      "**********\n",
      "\n"
     ]
    }
   ],
   "source": [
    "print_samples(\"\"\"To the people who check behind the shower curtain before using the washroom; what’s the next plan if you see someone?\"\"\")"
   ]
  },
  {
   "cell_type": "code",
   "execution_count": 171,
   "metadata": {},
   "outputs": [
    {
     "name": "stdout",
     "output_type": "stream",
     "text": [
      "I don't know. I'm not a lawyer.\n",
      "**********\n",
      "\n",
      "A warning label for what?\n",
      "**********\n",
      "\n",
      "A warning label.\n",
      "**********\n",
      "\n",
      "A warning label.\n",
      "**********\n",
      "\n",
      "A warning label.\n",
      "**********\n",
      "\n"
     ]
    }
   ],
   "source": [
    "print_samples(\"\"\"If you came with a warning label, what would it be?\"\"\")"
   ]
  },
  {
   "cell_type": "code",
   "execution_count": 172,
   "metadata": {},
   "outputs": [
    {
     "name": "stdout",
     "output_type": "stream",
     "text": [
      "I don't think I've ever made a decision while intoxicated.\n",
      "**********\n",
      "\n",
      "I don't remember.\n",
      "**********\n",
      "\n",
      "I don't drink.\n",
      "**********\n",
      "\n",
      "I don't drink.\n",
      "**********\n",
      "\n",
      "Drink more.\n",
      "**********\n",
      "\n"
     ]
    }
   ],
   "source": [
    "print_samples(\"\"\"What is the best decision you've made while drunk?\"\"\")"
   ]
  },
  {
   "cell_type": "code",
   "execution_count": 173,
   "metadata": {},
   "outputs": [
    {
     "name": "stdout",
     "output_type": "stream",
     "text": [
      "I don't know what you mean.\n",
      "**********\n",
      "\n",
      "I don't know what you mean.\n",
      "**********\n",
      "\n",
      "I don't know what you mean.\n",
      "**********\n",
      "\n",
      "I'm not sure what you mean.\n",
      "**********\n",
      "\n",
      "I don't know.\n",
      "**********\n",
      "\n"
     ]
    }
   ],
   "source": [
    "print_samples(\"\"\"What’s one rule you live by?\"\"\")"
   ]
  },
  {
   "cell_type": "code",
   "execution_count": null,
   "metadata": {},
   "outputs": [],
   "source": []
  }
 ],
 "metadata": {
  "kernelspec": {
   "display_name": "Python 3",
   "language": "python",
   "name": "python3"
  },
  "language_info": {
   "codemirror_mode": {
    "name": "ipython",
    "version": 3
   },
   "file_extension": ".py",
   "mimetype": "text/x-python",
   "name": "python",
   "nbconvert_exporter": "python",
   "pygments_lexer": "ipython3",
   "version": "3.8.3"
  }
 },
 "nbformat": 4,
 "nbformat_minor": 4
}
