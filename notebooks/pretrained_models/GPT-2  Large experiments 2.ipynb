{
 "cells": [
  {
   "cell_type": "code",
   "execution_count": 1,
   "metadata": {},
   "outputs": [],
   "source": [
    "import torch\n",
    "from transformers import GPT2LMHeadModel, GPT2Tokenizer"
   ]
  },
  {
   "cell_type": "code",
   "execution_count": 2,
   "metadata": {},
   "outputs": [
    {
     "data": {
      "text/plain": [
       "device(type='cuda', index=0)"
      ]
     },
     "execution_count": 2,
     "metadata": {},
     "output_type": "execute_result"
    }
   ],
   "source": [
    "device = torch.device('cuda:0') if torch.cuda.is_available() else torch.device('cpu')\n",
    "device"
   ]
  },
  {
   "cell_type": "code",
   "execution_count": 3,
   "metadata": {},
   "outputs": [],
   "source": [
    "tokenizer = GPT2Tokenizer.from_pretrained('gpt2-large')"
   ]
  },
  {
   "cell_type": "code",
   "execution_count": 4,
   "metadata": {},
   "outputs": [],
   "source": [
    "model = GPT2LMHeadModel.from_pretrained('gpt2-large', pad_token_id=tokenizer.eos_token_id)\n",
    "model.to(device);"
   ]
  },
  {
   "cell_type": "code",
   "execution_count": 5,
   "metadata": {},
   "outputs": [],
   "source": [
    "import re\n",
    "\n",
    "stop_pattern = re.compile(r'[A-Z]:|\\n\\n')\n",
    "end_punc = {'.', '!', '?'}\n",
    "\n",
    "\n",
    "def cleanse_answer(answer):\n",
    "    match = stop_pattern.search(answer)\n",
    "    stop_position = match.start() if match else len(answer)\n",
    "    answer = answer[:stop_position]\n",
    "    if set(answer) & end_punc:\n",
    "        end_index = len(answer) - 1\n",
    "        while answer[end_index] not in end_punc:\n",
    "            end_index -= 1\n",
    "        answer = answer[:end_index + 1]\n",
    "    return answer.strip()\n",
    "\n",
    "\n",
    "def decode_answer(model_output, input_text_len):\n",
    "    answer = tokenizer.decode(model_output, skip_special_tokens=True)[input_text_len:]\n",
    "    return cleanse_answer(answer)\n",
    "\n",
    "\n",
    "def print_samples(question, top_p=0.75, top_k=None, temperature=3.0, num_beams=5,\n",
    "            repetition_penalty=None, no_repeat_ngram_size=4, num_return_sequences=5, repeat=1):\n",
    "    input_text = f'Q: {question} A:'\n",
    "    input_ids = tokenizer.encode(input_text)\n",
    "    input_ids = torch.tensor([input_ids]).to(device)\n",
    "    for _ in range(repeat):\n",
    "        sample_outputs = model.generate(\n",
    "            input_ids,\n",
    "            do_sample=True, \n",
    "            max_length=len(input_ids) + 175, \n",
    "            top_p=top_p, \n",
    "            top_k=top_k, \n",
    "            temperature=temperature,\n",
    "            num_beams=num_beams,\n",
    "            repetition_penalty=repetition_penalty,\n",
    "            no_repeat_ngram_size=no_repeat_ngram_size,\n",
    "            num_return_sequences=num_return_sequences,\n",
    "#             length_penalty=2.0\n",
    "        )\n",
    "        answers = sorted(map(lambda text: decode_answer(text, len(input_text)), sample_outputs),\n",
    "                         key=len, reverse=True)\n",
    "        for answer in answers:\n",
    "            print(answer)\n",
    "            print('**********\\n')"
   ]
  },
  {
   "cell_type": "code",
   "execution_count": 6,
   "metadata": {},
   "outputs": [
    {
     "name": "stdout",
     "output_type": "stream",
     "text": [
      "I think the best example of that is at one of our restaurants in San Diego. A guy came in and asked us if we would serve him an entire plate of raw oysters. He came in with a big appetite, and the waiter came out and said, \"I'm sorry, you can't have that.\" He said, \"But you can have all of them, and they're raw, so I can't turn them down.\" I said, \"Oh, come on, man. I can't even look at that.\" He went back in and got the whole oysters. It was so disgusting that he had to get out of the restaurant.\n",
      "**********\n",
      "\n",
      "I don't know. It was in a McDonald's in New York City. I don't really know. It's a lot. It's probably a lot of things. But it was a cheeseburger, and the cheeseburger was so greasy that I was like, \"This is gross.\" It was really gross, and I didn't really like it.\n",
      "**********\n",
      "\n",
      "I think it's probably my dad's hot dog. He had a hot dog for breakfast, and he was eating a hot dog and I was like, \"What the hell is this?\" And then he goes, \"You know, I'm going to take this hot dog out of the box and eat it.\n",
      "**********\n",
      "\n",
      "I haven't tasted any gross things. I don't know if it's because I don't drink alcohol, or if I don't eat meat, but I have never had anything disgusting. I have never tasted anything that wasn't delicious.\n",
      "**********\n",
      "\n",
      "My mother's breasts. I was just eating them and I just started crying. I was like, \"Oh my God, my mother's breasts are so disgusting.\" They were really small and I thought they were really small.\n",
      "**********\n",
      "\n"
     ]
    }
   ],
   "source": [
    "print_samples(\"\"\"What's the grossest thing you've ever tasted?\"\"\")"
   ]
  },
  {
   "cell_type": "code",
   "execution_count": 7,
   "metadata": {},
   "outputs": [
    {
     "name": "stdout",
     "output_type": "stream",
     "text": [
      "I think the answer to that is, I think that we need a new world order that works for the people. That works for everyone, not just a few, that works for all of us. And that's why I'm so proud to be the first American president to visit the People's Republic of China. I want to thank President Xi Jinping and President Hu Jintao for their hospitality. I also want to thank the people of China and the world for the warm welcome they have extended to me and to the first lady. I am very happy to be here.\n",
      "**********\n",
      "\n",
      "I would want to be the best at everything and I don't think there's any one superpower that can be good at everything. There's so much more to it than just that. I think I could do everything. If I could have one superpower it would probably be that I have a great mind and can think on my own. I would be the best person to run a country. If you had that superpower, you would be able to make the best decisions for the country. That would be my superpower.\n",
      "**********\n",
      "\n",
      "The only superpower I would want is to have the freedom of choice and to be free to do whatever I want to do. I think that would be a superpower. I don't think that there is one superpower in this world that can take all the powers and that's not what I would want to have.\n",
      "**********\n",
      "\n",
      "If I could have one superpower I'd have the ability to change the world. If I could change the world, I'd have a superpower. I'd have to be able to do that, I don't know what that would look like, I think that's the thing that I would have to have.\n",
      "**********\n",
      "\n",
      "I don't think I would choose to have one superpower, I think it would be to have the most power I could ever possibly have, which is to be the most powerful human being on this planet.\n",
      "**********\n",
      "\n"
     ]
    }
   ],
   "source": [
    "print_samples(\"\"\"If you could have 1 superpower what would it be and why?\"\"\")"
   ]
  },
  {
   "cell_type": "code",
   "execution_count": 8,
   "metadata": {},
   "outputs": [
    {
     "name": "stdout",
     "output_type": "stream",
     "text": [
      "No, not really. There are many things I could be doing on reddit that I am not doing right now. The reason for that is that I have a job. I have a full-time job, and that is not the same as reddit, where you have no job and you have a lot of free time. Also, there are a lot of people on reddit who I don't really know, and I have no idea who they are, and I don't know what they want to talk about. So, it's not really that productive.\n",
      "**********\n",
      "\n",
      "I don't know. I have a few things I want to do, but I don't want to do them right now. If I do, it's going to be a huge pain. I don't have time to do all of them, so it's not like I can just do them one at a time. But I think I'll do some things in the near future, and then maybe in a couple of years, I'll be done with reddit.\n",
      "**********\n",
      "\n",
      "There are a lot of things that I should be doing. I just have too much to do. If you want to help out, just drop a comment here and I'll be happy to give you a hand. Also, I have a few other things going on right now, and I'm going to get back to them as soon as possible.\n",
      "**********\n",
      "\n",
      "No, not really. I'm just doing what I have to. I've got a lot of work to do, and I'm trying to keep my head above water. I have a few projects that I've got to get done before I can move on, and that's what I'm doing.\n",
      "**********\n",
      "\n",
      "No, I haven't been doing any reddit. I'm just playing the game.\n",
      "**********\n",
      "\n"
     ]
    }
   ],
   "source": [
    "print_samples(\"\"\"Is there anything you should be doing right now, but you're wasting your time on reddit instead? If so, what is it?\"\"\")"
   ]
  },
  {
   "cell_type": "code",
   "execution_count": 9,
   "metadata": {},
   "outputs": [
    {
     "name": "stdout",
     "output_type": "stream",
     "text": [
      "I don't think there is any one theory. I'm not sure there is a creepiest theory, because you have to go back to the very beginning to find one. But there are a few theories that I know are scary, but I think are actually not so much scary as interesting. And I think the most interesting ones are the ones where there's no real answer to them. I don't know how many of those theories there are. There are so many of them. You can find them all in the Internet, or in books, or on websites. But the one that I'm most excited about is one where I think we're going to find an answer in a few weeks, and that's one where there is a lot of evidence that the theory is correct.\n",
      "**********\n",
      "\n",
      "That's a really tough one to answer, because it depends on the context, and I'm sure I've seen some really bad theories. But I think there are a couple of things I can think of that are really, really scary. The first one is the one where you can imagine that you're in an alternate dimension, where you can't even see the outside world. That's kind of a terrifying idea. And the other thing that's kind of scary is the idea that we have the ability to alter the laws of physics, and we can actually do things that would never be possible in the real world. Like, you can change the speed of light, and that's really scary.\n",
      "**********\n",
      "\n",
      "I don't think there's a creepiest or most frightening theory about anything, I think it's more of a feeling or feeling that you can't explain. I mean I have a theory about the end of the world, I've always had a theory about it, I don't know if it's a good theory or a bad theory, but I've always thought about it, and I think that if we don't do something about the climate change, we're going to end up in a world where we can't grow food, we can't feed ourselves, we can see all the other species going extinct, and it's going to be a very, very bad world. And that's just the way I see it.\n",
      "**********\n",
      "\n",
      "I have heard of a lot of things, but this one I've heard the least about. I've heard about it because it's a really scary idea. It's a very good idea.\n",
      "**********\n",
      "\n",
      "It's a theory that I have not seen or heard of yet.\n",
      "**********\n",
      "\n"
     ]
    }
   ],
   "source": [
    "print_samples(\"\"\"What is the scariest/creepiest theory you know about?\"\"\")"
   ]
  },
  {
   "cell_type": "code",
   "execution_count": 10,
   "metadata": {},
   "outputs": [
    {
     "name": "stdout",
     "output_type": "stream",
     "text": [
      "There are many different ways to answer that question. One way is to say that it is impossible to be a good assassin in this world. But there are also ways to answer it that don't require that you are a bad one. There is a market in assassins. It's not the only one, but it is one of the more important ones. The market in assassins has existed for centuries, since the Middle Ages. In fact, in the Middle Ages there were several different ways to be an assassin. One way was to kill people. Another was to steal their property.\n",
      "**********\n",
      "\n",
      "In John Wick 2, there is a very high degree of specialization. The assassin is not only in the business of killing but also of being an assassin, so it's very important to have a strong background in this area. It is also important to keep the assassin's identity a secret. The assassin's identity is usually a secret, and it's very rare for someone to know the identity of an assassin. When the assassin is killed, it's very difficult to find the assassin's body. It's very difficult for the police to track down the assassin.\n",
      "**********\n",
      "\n",
      "This is a common misconception. It's not that there are no buyers for these jobs. There are, but there's no way to get around that. The only way you can find the best deal is to have a buyer who can afford to pay for it. The best buyers, the ones who are willing to pay for the job and are willing to take a chance on the assassin, are the ones who have the most to gain from killing someone else. That's what the market is all about. When a buyer is willing to pay, there's no one else willing to do it.\n",
      "**********\n",
      "\n",
      "I don't know, but I do know it's not the case that a killer's only job is killing, and I don't believe there's a market for that. If there is, it's in a different realm of things. In the Wick world, you're killing for money. That's what makes it so appealing. It's not a job, it's an art. You're making a living off of the job, and that's how I see it. The market is not there, but it's a very real thing that exists.\n",
      "**********\n",
      "\n",
      "A lot of the time they're just trying to make money, so they're not looking to kill people. But there are certain things you can't buy, so if there's an opportunity to get in on the action and kill people, you're gonna take it. I mean, that's the way the world works, and it's not a good thing for the world to be run like that.\n",
      "**********\n",
      "\n"
     ]
    }
   ],
   "source": [
    "print_samples(\"\"\"In the John Wick universe, assassins are shown to be everyone and everywhere, thus indicating a buyer's market. What limited time deals and offers do assassins provide to out price the competition? How does the economics of the world operate with so many trained killers?\"\"\")"
   ]
  },
  {
   "cell_type": "code",
   "execution_count": 11,
   "metadata": {},
   "outputs": [
    {
     "name": "stdout",
     "output_type": "stream",
     "text": [
      "I'm a big fan of Genesis 1-5. I love the way it shows that God created the world with a perfect plan for us to live in it. Genesis is a good read for anyone who is interested in the creation of the world and its purpose. The story of Adam and Eve is also very interesting, because it shows the relationship between man and woman and the relationship between God and humanity. The book of Genesis also shows us that God is very concerned with the future of mankind. I think it's one of the most interesting stories in the Bible. I think the most interesting part of the story is the creation of man and woman, and that they have to come from the same source, from God, from their union with God.\n",
      "**********\n",
      "\n",
      "I have two favorites. The first is in Leviticus 19:22-23, when God says to Moses, \"If a man's brother is a murderer, and you know him, you must purge the evil from him; and if you find any other man who has done this, you must bring him to the gate of the camp of Israel and stone him to death.\" The second is in Deuteronomy 23:13-14, when God commands the Israelites to kill all the Amorites and Canaanites who are living among them, because the Israelites were guilty of murder and they would have been killed if they did not do it. (I'm not saying I'm the one who wrote these verses. I just think they are the most beautiful verses to read in the Bible.\n",
      "**********\n",
      "\n",
      "I think it's probably the story of Adam and Eve. There's something about this story that really speaks to my heart, and it's not something that I'd ever done before. The whole thing is about a man and a woman having sex, and they have to stay in the garden for a while, but they eventually get to eat the fruit of the tree. They have to keep it in the garden because it's forbidden. And then, God says, \"I don't know what I'm doing. I'm not going to tell you, but I'm going to give you something to do.\" And he gives them a stone, and he tells them, \"You take this stone, and I'll tell you what you're going to do.\n",
      "**********\n",
      "\n",
      "I have two. The first one was in Genesis 1:27, which is the story about the flood. I loved the fact that it's all about the flood and all the people who are affected by it. The second one is in 1 Corinthians 15, which is a story about Paul's conversion. He was in prison, and he was being beaten by a fellow inmate, and Paul came to his aid. He said, \"If you don't leave me alone, I'll kill you. But I'm going to die anyway. So why don't you kill me instead?\" And the other inmate said, \"I don't know what to do.\" Paul said, \"Let's do it, brother. Let's go to the jail and get some food for us.\n",
      "**********\n",
      "\n",
      "I love to watch Jesus fucking Mary. She's so hot! And I love that he's getting his cock in her ass!\n",
      "**********\n",
      "\n"
     ]
    }
   ],
   "source": [
    "print_samples(\"\"\"What is you favorite sex scene in the Bible?\"\"\")"
   ]
  },
  {
   "cell_type": "code",
   "execution_count": 12,
   "metadata": {},
   "outputs": [
    {
     "name": "stdout",
     "output_type": "stream",
     "text": [
      "A lot of websites have great features, but are not used as much as others. If you're looking for a website to get started, I highly recommend this site, it has tons of cool features, but it's a little bit hard to use. It's the best of both worlds. I use this website for all of my online business development, it's easy to navigate and has a ton of great features. I use it for my website design, as well as other things like my blog. I also like to use this website to find new websites to work with.\n",
      "**********\n",
      "\n",
      "I use all the sites listed in this post. They are all great for a variety of things. Most of them I use for personal or professional development. I also use them for research, and to learn a little about something new or to learn more about a topic. Some sites I use for business, and I use them for personal development as well. I am always interested in learning new things and I like to keep up with the latest trends and new technologies.\n",
      "**********\n",
      "\n",
      "I use the sites I have listed below, and I think it's pretty cool that I'm getting to use them for my own work. They are not just for fun, though, as they are some of the most important sites I use in my day to day. A couple of these sites are listed below, but they are just the ones that I use to get work done.\n",
      "**********\n",
      "\n",
      "A few websites that I use to keep track of the projects that I work on. They're all on GitHub. I also use a few other websites for other purposes, such as a list of all my favorite websites.\n",
      "**********\n",
      "\n",
      "I love to learn new things and I use my favorite sites to do that:\n",
      "**********\n",
      "\n"
     ]
    }
   ],
   "source": [
    "print_samples(\"\"\"What are underrated websites and what do you use them for?\"\"\")"
   ]
  },
  {
   "cell_type": "code",
   "execution_count": 13,
   "metadata": {},
   "outputs": [
    {
     "name": "stdout",
     "output_type": "stream",
     "text": [
      "Because I love the people that hate me, and I hate them for it. It's not because I'm angry at them, it's because I love them for it, and I don't want to see them do it.\n",
      "**********\n",
      "\n",
      "Because they are my enemies. They have no right to exist. They don't have the right to exist in this world. If I could have my way, I would kill all of them.\n",
      "**********\n",
      "\n",
      "Because they're evil. They're evil because they hate me. I hate the people who hate me.\n",
      "**********\n",
      "\n",
      "Because they don't deserve to be loved. And that's what they want.\n",
      "**********\n",
      "\n",
      "Because they don't like what I think.\n",
      "**********\n",
      "\n"
     ]
    }
   ],
   "source": [
    "print_samples(\"\"\"Why do you hate the people that you hate?\"\"\")"
   ]
  },
  {
   "cell_type": "code",
   "execution_count": 14,
   "metadata": {},
   "outputs": [
    {
     "name": "stdout",
     "output_type": "stream",
     "text": [
      "Well, the stuff I developed was mostly the same stuff I developed when I was in the photo labs. It's just the technology has changed so much, and I don't think you can really go back. It's kind of a funny question, because you can go back and change things, but it's really hard to change things. The only thing that has really changed is the equipment. I don't know, maybe it's because the equipment is better, or maybe I've got better equipment now. But I think the only thing I've changed is the process. I think that's what's changed the most.\n",
      "**********\n",
      "\n",
      "Well, for a long time I developed a lot of stuff in the past. I used to do color correction on TV commercials and stuff like that. I'm still a big fan of that stuff, but I'm not as into it now. I'm a lot more into the stuff I do with the digital cameras. It's a lot easier. I've been doing a lot of work with digital cameras, so it's just easier. I'm not that into it, but it's easier.\n",
      "**********\n",
      "\n",
      "I've been making prints for over 25 years and have developed some really weird stuff that I'm not sure anyone has ever seen. I've been working on some really weird prints for the last five years. I'm not really a big collector of prints, I'm not into it at all. It was just a hobby that I was interested in. It's a lot of work, but it's something that I've always done.\n",
      "**********\n",
      "\n",
      "There are a few things that I've been able to do that I never could before. I used to take pictures in a way where you had to look at the whole frame. Now I just look at the edges of the image and I can do a lot of different things, so you can't really see the whole image.\n",
      "**********\n",
      "\n",
      "Well, I've been working with the same equipment for a while now, and I've always been interested in developing film. I've always done a lot of research on it, but it wasn't until the digital revolution that I really got into it, so I was able to develop a lot of film.\n",
      "**********\n",
      "\n"
     ]
    }
   ],
   "source": [
    "print_samples(\"\"\"People who used to work in photo labs before digital cameras, what weird stuff did you develop?\"\"\")"
   ]
  },
  {
   "cell_type": "code",
   "execution_count": 15,
   "metadata": {},
   "outputs": [
    {
     "name": "stdout",
     "output_type": "stream",
     "text": [
      "I will leave the door unlocked and I’ll wait for the person to get out of the shower, then leave the room and wait for him or her to go back in. I will then go into the room and find the person, if I find them I will let them use the washroom and if they don't use it, then leave. If they don't return, I will go back in the room and try to find the person and if that doesn't work I will leave.\n",
      "**********\n",
      "\n",
      "If you are in a bathroom stall or shower stall and someone comes to use it, turn off the shower or stall and go into the other bathroom stall. If someone comes in the stall and looks at you, just say \"no\" and leave the stall. If you do see someone, just turn around and leave. You will not get in trouble.\n",
      "**********\n",
      "\n",
      "It's a little difficult, because you have to think about what you're going to do if you see him. You can't just jump out of your skin and run away. It's a good idea to stay close to the wall and to hide. You can try to hide in the corner of the room and wait for the person to leave the bathroom.\n",
      "**********\n",
      "\n",
      "The next step is to use your best judgement and call them out if you think someone may be hiding in the shower. You can also try to find them in a bathroom stall or bathroom stall with a door and ask them to come out.\n",
      "**********\n",
      "\n",
      "If you see someone in the bathroom with a gun in their hands, immediately get out of the room. You have a right to remain silent. If someone tries to use a weapon in a public place and you are in the room, don't move.\n",
      "**********\n",
      "\n"
     ]
    }
   ],
   "source": [
    "print_samples(\"\"\"To the people who check behind the shower curtain before using the washroom; what’s the next plan if you see someone?\"\"\")"
   ]
  },
  {
   "cell_type": "code",
   "execution_count": 16,
   "metadata": {},
   "outputs": [
    {
     "name": "stdout",
     "output_type": "stream",
     "text": [
      "If I had a warning label that said \"This product contains caffeine, it may cause you to have an upset stomach,\" I would be very careful about how much I drink. I would probably have a drink before I went to work.\n",
      "**********\n",
      "\n",
      "I'd say a warning. I'd say \"This is not for kids under 12.\" I don't know how they could say that, but it would be a warning label.\n",
      "**********\n",
      "\n",
      "If it was a warning, it would say something like: \"Do not drink this if you have heart disease or diabetes.\n",
      "**********\n",
      "\n",
      "\"Warning: The contents of this package may be harmful to your body and/or to the environment.\n",
      "**********\n",
      "\n",
      "I don't know, but I'm sure I'd be told to stop doing what I'm doing.\n",
      "**********\n",
      "\n"
     ]
    }
   ],
   "source": [
    "print_samples(\"\"\"If you came with a warning label, what would it be?\"\"\")"
   ]
  },
  {
   "cell_type": "code",
   "execution_count": 17,
   "metadata": {},
   "outputs": [
    {
     "name": "stdout",
     "output_type": "stream",
     "text": [
      "It depends on the situation, and I'd say I've made some pretty good decisions while intoxicated. I think it depends on your situation. You can't say I've never been drunk and made a good decision, because I've done that. But I think I've had some really bad decisions while drunk. But I've never had a bad decision while intoxicated.\n",
      "**********\n",
      "\n",
      "The best decision I've made while drinking is to have a job. I've had a couple of really good ones while drunk. I'm really happy with my job, and I'm very happy that I'm in a place where I'm doing the right things. I'm very proud of it.\n",
      "**********\n",
      "\n",
      "It depends. I'm not sure. I think I was a little bit too drunk to decide. I was just trying to remember things, but I'm pretty sure that I made the wrong choice. It's probably the same with any decision you make. I don't know.\n",
      "**********\n",
      "\n",
      "It depends. Sometimes I'll go to sleep, and other times I'll wake up, and I'll think about it and I'll make up my mind and go for it.\n",
      "**********\n",
      "\n",
      "Drinking a beer.\n",
      "**********\n",
      "\n"
     ]
    }
   ],
   "source": [
    "print_samples(\"\"\"What is the best decision you've made while drunk?\"\"\")"
   ]
  },
  {
   "cell_type": "code",
   "execution_count": 18,
   "metadata": {},
   "outputs": [
    {
     "name": "stdout",
     "output_type": "stream",
     "text": [
      "The same rule I live by. You know that I'm a big believer in doing your own research. If you don't know what's good for you and what's bad for you, it doesn't matter how many times you go to a doctor or a pharmacist or a nutritionist. They're all just as likely to tell you the same thing. If you have a problem and you're willing to try something, you're going to find out that it works. If you can't afford to go to a health care professional, then you have to figure out how to do it on your own. You have to know your body and what you're doing to make it work. If you're not doing that, then you're just wasting your time. I'm just not interested in doing that.\n",
      "**********\n",
      "\n",
      "I like to keep things simple. I don't have to do too much. I'm just happy to get things done. And I don't care what people think about it. If I'm doing it right, people are going to like it.\n",
      "**********\n",
      "\n",
      "I don't care about what people think about me, I'm going to be myself and do what I feel is right.\n",
      "**********\n",
      "\n",
      "If you can't find the answer to your question, you can ask someone else.\n",
      "**********\n",
      "\n",
      "I’m always thinking about it. I’ll keep trying.\n",
      "**********\n",
      "\n"
     ]
    }
   ],
   "source": [
    "print_samples(\"\"\"What’s one rule you live by?\"\"\")"
   ]
  },
  {
   "cell_type": "code",
   "execution_count": null,
   "metadata": {},
   "outputs": [],
   "source": []
  },
  {
   "cell_type": "code",
   "execution_count": null,
   "metadata": {},
   "outputs": [],
   "source": []
  }
 ],
 "metadata": {
  "kernelspec": {
   "display_name": "Python 3",
   "language": "python",
   "name": "python3"
  },
  "language_info": {
   "codemirror_mode": {
    "name": "ipython",
    "version": 3
   },
   "file_extension": ".py",
   "mimetype": "text/x-python",
   "name": "python",
   "nbconvert_exporter": "python",
   "pygments_lexer": "ipython3",
   "version": "3.8.3"
  }
 },
 "nbformat": 4,
 "nbformat_minor": 4
}
