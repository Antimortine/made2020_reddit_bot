{
 "cells": [
  {
   "cell_type": "code",
   "execution_count": 1,
   "metadata": {},
   "outputs": [],
   "source": [
    "import torch\n",
    "from transformers import GPT2LMHeadModel, GPT2Tokenizer"
   ]
  },
  {
   "cell_type": "code",
   "execution_count": 2,
   "metadata": {},
   "outputs": [
    {
     "data": {
      "text/plain": [
       "device(type='cuda', index=0)"
      ]
     },
     "execution_count": 2,
     "metadata": {},
     "output_type": "execute_result"
    }
   ],
   "source": [
    "device = torch.device('cuda:0') if torch.cuda.is_available() else torch.device('cpu')\n",
    "device"
   ]
  },
  {
   "cell_type": "code",
   "execution_count": 3,
   "metadata": {},
   "outputs": [],
   "source": [
    "tokenizer = GPT2Tokenizer.from_pretrained('gpt2-xl')"
   ]
  },
  {
   "cell_type": "code",
   "execution_count": 4,
   "metadata": {},
   "outputs": [],
   "source": [
    "model = GPT2LMHeadModel.from_pretrained('gpt2-xl', pad_token_id=tokenizer.eos_token_id)\n",
    "model.to(device);"
   ]
  },
  {
   "cell_type": "code",
   "execution_count": 5,
   "metadata": {},
   "outputs": [],
   "source": [
    "import re\n",
    "\n",
    "stop_pattern = re.compile(r'[A-Z]:|\\n\\n')\n",
    "end_punc = {'.', '!', '?'}\n",
    "\n",
    "\n",
    "def cleanse_answer(answer):\n",
    "    match = stop_pattern.search(answer)\n",
    "    stop_position = match.start() if match else len(answer)\n",
    "    answer = answer[:stop_position]\n",
    "    if set(answer) & end_punc:\n",
    "        end_index = len(answer) - 1\n",
    "        while answer[end_index] not in end_punc:\n",
    "            end_index -= 1\n",
    "        answer = answer[:end_index + 1]\n",
    "    return answer.strip()\n",
    "\n",
    "\n",
    "def decode_answer(model_output, input_text_len):\n",
    "    answer = tokenizer.decode(model_output, skip_special_tokens=True)[input_text_len:]\n",
    "    return cleanse_answer(answer)\n",
    "\n",
    "\n",
    "def print_samples(question, top_p=None, top_k=None, temperature=1.0, num_beams=10,\n",
    "            repetition_penalty=None, no_repeat_ngram_size=4, num_return_sequences=1, repeat=5):\n",
    "    input_text = f'Q: {question} A:'\n",
    "    input_ids = tokenizer.encode(input_text)\n",
    "    input_ids = torch.tensor([input_ids]).to(device)\n",
    "    for _ in range(repeat):\n",
    "        sample_outputs = model.generate(\n",
    "            input_ids,\n",
    "            do_sample=True, \n",
    "            max_length=len(input_ids) + 175, \n",
    "            top_p=top_p, \n",
    "            top_k=top_k, \n",
    "            temperature=temperature,\n",
    "            num_beams=num_beams,\n",
    "            repetition_penalty=repetition_penalty,\n",
    "            no_repeat_ngram_size=no_repeat_ngram_size,\n",
    "            num_return_sequences=num_return_sequences,\n",
    "#             length_penalty=50.0\n",
    "        )\n",
    "        answers = sorted(map(lambda text: decode_answer(text, len(input_text)), sample_outputs),\n",
    "                         key=len, reverse=True)\n",
    "        for answer in answers:\n",
    "            print(answer)\n",
    "            print('**********\\n')"
   ]
  },
  {
   "cell_type": "code",
   "execution_count": 6,
   "metadata": {},
   "outputs": [
    {
     "name": "stdout",
     "output_type": "stream",
     "text": [
      "I can't think of a grosser thing I've ever tasted.\n",
      "**********\n",
      "\n",
      "I don't want to talk about it.\n",
      "**********\n",
      "\n",
      "The grossest thing I've ever tasted was when I was a kid and my mom took me to the dentist and she gave me a root canal. I was like, \"Mom, what are you doing?\" She said, \"I'm giving you a root canal.\" I'm like, \"What are you doing? I don't want a root canal!\" She's like, \"No, no, no, I'm giving you this root canal.\" It was so gross.\n",
      "**********\n",
      "\n",
      "I don't think I've ever had a grosser thing in my life.\n",
      "**********\n",
      "\n",
      "The grossest thing I've ever tasted was when I was a kid and I ate a whole bag of potato chips.\n",
      "**********\n",
      "\n"
     ]
    }
   ],
   "source": [
    "print_samples(\"\"\"What's the grossest thing you've ever tasted?\"\"\")"
   ]
  },
  {
   "cell_type": "code",
   "execution_count": 7,
   "metadata": {},
   "outputs": [
    {
     "name": "stdout",
     "output_type": "stream",
     "text": [
      "I would want to be able to fly.\n",
      "**********\n",
      "\n",
      "I would want to be able to fly.\n",
      "**********\n",
      "\n",
      "I would want to be able to fly.\n",
      "**********\n",
      "\n",
      "I would like to be able to fly.\n",
      "**********\n",
      "\n",
      "I would have the ability to fly.\n",
      "**********\n",
      "\n"
     ]
    }
   ],
   "source": [
    "print_samples(\"\"\"If you could have 1 superpower what would it be and why?\"\"\")"
   ]
  },
  {
   "cell_type": "code",
   "execution_count": 8,
   "metadata": {},
   "outputs": [
    {
     "name": "stdout",
     "output_type": "stream",
     "text": [
      "I'm not wasting my time on reddit, I just don't want to waste my time on something I don't care about.\n",
      "**********\n",
      "\n",
      "I'm wasting my time on reddit because I don't know what to do with my life right now.\n",
      "**********\n",
      "\n",
      "I'm not wasting my time on reddit, but I'm also not doing anything right now. I'm trying to figure out what I want to do with my life.\n",
      "**********\n",
      "\n",
      "I'm not wasting my time on reddit, but I do spend a lot of time on Twitter. If you follow me on Twitter, you'll see a lot of tweets from me. If you want to know what I'm up to, you can follow me on twitter.\n",
      "**********\n",
      "\n",
      "I'm not wasting my time on reddit, but I am wasting my time in real life. I'm trying to figure out what I want to do with my life, and I don't know if I'm going to be able to do it. I'm not sure if I want to go back to school, but I don't want to give up on my dream of being a writer.\n",
      "**********\n",
      "\n"
     ]
    }
   ],
   "source": [
    "print_samples(\"\"\"Is there anything you should be doing right now, but you're wasting your time on reddit instead? If so, what is it?\"\"\")"
   ]
  },
  {
   "cell_type": "code",
   "execution_count": 9,
   "metadata": {},
   "outputs": [
    {
     "name": "stdout",
     "output_type": "stream",
     "text": [
      "I don't know if there's a scariest or creepiest theory, but I do know that there's a lot of them.\n",
      "**********\n",
      "\n",
      "I don't want to give too much away, but I can tell you that there is a theory out there that says that we are not the only intelligent life in the universe, that there are other intelligent life out there. I don't know if it's true or not, but it's an interesting theory.\n",
      "**********\n",
      "\n",
      "I don't want to give too much away, but I'll tell you a little bit.\n",
      "**********\n",
      "\n",
      "I don't know about creepiest, but I do know that there are a lot of people out there who would like to see me dead.\n",
      "**********\n",
      "\n",
      "I have no idea.\n",
      "**********\n",
      "\n"
     ]
    }
   ],
   "source": [
    "print_samples(\"\"\"What is the scariest/creepiest theory you know about?\"\"\")"
   ]
  },
  {
   "cell_type": "code",
   "execution_count": 10,
   "metadata": {},
   "outputs": [
    {
     "name": "stdout",
     "output_type": "stream",
     "text": [
      "I don't want to give away too much, but let's just say there are a lot of assassins out there. There are also a lot of people who want to kill you, so there's a lot of money to be made.\n",
      "**********\n",
      "\n",
      "In the world of John Wick, assassins are everywhere, and there is no such thing as a \"buyer's market.\" In this world, there is only a buyer and a seller. The buyer is John Wick, and the seller is John Wick's enemies. There is no middle man. The only way to get a good deal is to be the best assassin in the world, and the only way to do that is to kill your enemies.\n",
      "**********\n",
      "\n",
      "There is no such thing as a \"buyer's market\" in the world of John Wick. There is only a buyer and a seller. If you want to buy a gun, you have to be willing to pay for it. If you don't want to pay for the gun, you can't buy it. The only way to get a gun is to kill someone. If you're not willing to kill someone, you're not going to be able to get the gun. The only people who are going to be buying guns are the ones who are willing to kill people.\n",
      "**********\n",
      "\n",
      "There is no such thing as a \"buyer's market\" or a \"seller's market\" in the world of John Wick. There is only a buyer and a seller, and the buyer and the seller are constantly trying to outdo each other in terms of how much they are willing to pay in order to get what they want. The only way to get what you want is to kill someone, and the only way to kill someone is to kill them.\n",
      "**********\n",
      "\n",
      "There is no such thing as a \"buyer's market\" in the world of John Wick. In fact, there are only \"buyers\" and \"sellers\". Buyers are those who are willing to pay the highest price. Sellers are those willing to accept the lowest price. There is no middle ground. The only way to get a good deal is to be willing to pay more than the other side is willing to pay. And the only way to do that is to be one of the best assassins in the world.\n",
      "**********\n",
      "\n"
     ]
    }
   ],
   "source": [
    "print_samples(\"\"\"In the John Wick universe, assassins are shown to be everyone and everywhere, thus indicating a buyer's market. What limited time deals and offers do assassins provide to out price the competition? How does the economics of the world operate with so many trained killers?\"\"\")"
   ]
  },
  {
   "cell_type": "code",
   "execution_count": 11,
   "metadata": {},
   "outputs": [
    {
     "name": "stdout",
     "output_type": "stream",
     "text": [
      "The story of Sodom and Gomorrah (Genesis 19:1-24).\n",
      "**********\n",
      "\n",
      "The story of David and Bathsheba.\n",
      "**********\n",
      "\n",
      "The story of Sodom and Gomorrah (Genesis 19:1-24).\n",
      "**********\n",
      "\n",
      "The story of Sodom and Gomorrah.\n",
      "**********\n",
      "\n",
      "The story of David and Bathsheba.\n",
      "**********\n",
      "\n"
     ]
    }
   ],
   "source": [
    "print_samples(\"\"\"What is you favorite sex scene in the Bible?\"\"\")"
   ]
  },
  {
   "cell_type": "code",
   "execution_count": 12,
   "metadata": {},
   "outputs": [
    {
     "name": "stdout",
     "output_type": "stream",
     "text": [
      "I use a lot of sites that I don't get a lot of credit for. For example, I used to be a big fan of The New York Times, but I don't use it as often as I used to. I use it a lot more than I used to, but I still don't get credit for it as much as I should. I also use sites that don't get as much credit as they should, but I use them all the time. I use the Huffington Post a lot, and I use the New York Daily News a lot. I use Gawker.com a lot, but a lot of people don't know that I used to write for Gawker.com.\n",
      "**********\n",
      "\n",
      "I'm not sure if I'm underrated or not, but I'm definitely not one of the top 10 websites on the internet. I don't think I'm even in the top 100. But I use them all the time. I use them when I'm on the road, when I'm in the office, and when I'm at home.\n",
      "**********\n",
      "\n",
      "I'm not sure if I'm underrated or not, but I use a lot of websites that I don't get a lot of credit for. For example, I've used a lot of sites that I think are under-appreciated, but I've also used sites that have been around for a long time that I think have a lot of potential. I don't think I'm underrated, but I do think there are a lot of good sites out there that aren't getting the credit they deserve.\n",
      "**********\n",
      "\n",
      "I use a lot of websites that don't get a lot of attention. Some of them are: http://www.reddit.com/r/webcomics/ http://webtoons.com/webtoon/list.php?title=Webtoons http://webcomics.com/forum/viewtopic.php?f=8&t=9073 http://web.archive.org/web/20130805051408/http://www.comicbookresources.com/ http://en.wikipedia.org/wiki/List_of_comic_book_related_websites http://webcache.googleusercontent.com/search?\n",
      "**********\n",
      "\n",
      "I use a lot of websites that don't get a lot of attention, but they do a lot of good work.\n",
      "**********\n",
      "\n"
     ]
    }
   ],
   "source": [
    "print_samples(\"\"\"What are underrated websites and what do you use them for?\"\"\")"
   ]
  },
  {
   "cell_type": "code",
   "execution_count": 13,
   "metadata": {},
   "outputs": [
    {
     "name": "stdout",
     "output_type": "stream",
     "text": [
      "Because they don't know what they're talking about.\n",
      "**********\n",
      "\n",
      "Because they don't like me.\n",
      "**********\n",
      "\n",
      "Because they're stupid.\n",
      "**********\n",
      "\n",
      "Because they don't love you.\n",
      "**********\n",
      "\n",
      "Because they don't like me.\n",
      "**********\n",
      "\n"
     ]
    }
   ],
   "source": [
    "print_samples(\"\"\"Why do you hate the people that you hate?\"\"\")"
   ]
  },
  {
   "cell_type": "code",
   "execution_count": 14,
   "metadata": {},
   "outputs": [
    {
     "name": "stdout",
     "output_type": "stream",
     "text": [
      "I developed a lot of weird stuff. I did a lot of things that I don't want to talk about.\n",
      "**********\n",
      "\n",
      "I developed a lot of things. One of the things I developed was a lot of film emulsions. A lot of emulsions were developed. I developed emulsions for a lot of different things. Some of the emulsions that I developed are still in use today.\n",
      "**********\n",
      "\n",
      "I developed a lot of weird stuff. One of my favorite things to do was to take a photo of something and then take a picture of something else, and then take another photo of something else. I used to do that all the time.\n",
      "**********\n",
      "\n",
      "I developed a lot of weird stuff. I did a lot of black and white stuff, a lot of color stuff, and a lot of special effects stuff.\n",
      "**********\n",
      "\n",
      "I developed a lot of weird stuff. One of my favorite things to do was to develop film negatives. I would take a roll of 35mm film, and I would develop it in a darkroom. Then I would take the film back to the lab and develop it again, and then I would take it back to the darkroom and develop it some more. Then I'd take it to the lab again, and I'd develop it again. So I developed hundreds of rolls of film.\n",
      "**********\n",
      "\n"
     ]
    }
   ],
   "source": [
    "print_samples(\"\"\"People who used to work in photo labs before digital cameras, what weird stuff did you develop?\"\"\")"
   ]
  },
  {
   "cell_type": "code",
   "execution_count": 15,
   "metadata": {},
   "outputs": [
    {
     "name": "stdout",
     "output_type": "stream",
     "text": [
      "If you see someone behind the curtain, don't use the washroom. If you see a person in the washroom, don't go into the washroom with them. If you don't see anyone behind the curtain or in the bathroom, leave the washroom immediately.\n",
      "**********\n",
      "\n",
      "If you see someone in the shower, don’t use the washroom. If you see a person in the washroom, use the urinal.\n",
      "**********\n",
      "\n",
      "If you see someone in the shower, don’t use the washroom.\n",
      "**********\n",
      "\n",
      "I don't know. I don't have a plan.\n",
      "**********\n",
      "\n",
      "If I see someone, I'll call the police.\n",
      "**********\n",
      "\n"
     ]
    }
   ],
   "source": [
    "print_samples(\"\"\"To the people who check behind the shower curtain before using the washroom; what’s the next plan if you see someone?\"\"\")"
   ]
  },
  {
   "cell_type": "code",
   "execution_count": 16,
   "metadata": {},
   "outputs": [
    {
     "name": "stdout",
     "output_type": "stream",
     "text": [
      "I don't know. I don't have a label.\n",
      "**********\n",
      "\n",
      "It would be a warning label that says, \"Do not use this product if you are pregnant or breastfeeding, or if you have high blood pressure, heart disease, diabetes, high cholesterol, high triglycerides, high blood pressure or asthma.\n",
      "**********\n",
      "\n",
      "I don't know. I don't have one.\n",
      "**********\n",
      "\n",
      "It would be something like, \"Do not use this product if you are allergic to any of the ingredients in this product.\n",
      "**********\n",
      "\n",
      "I don't know what the warning label would be.\n",
      "**********\n",
      "\n"
     ]
    }
   ],
   "source": [
    "print_samples(\"\"\"If you came with a warning label, what would it be?\"\"\")"
   ]
  },
  {
   "cell_type": "code",
   "execution_count": 17,
   "metadata": {},
   "outputs": [
    {
     "name": "stdout",
     "output_type": "stream",
     "text": [
      "The best decision I've ever made was when I was drunk.\n",
      "**********\n",
      "\n",
      "I don't know. I don't remember.\n",
      "**********\n",
      "\n",
      "The best decision I've ever made while drunk is not to drink at all.\n",
      "**********\n",
      "\n",
      "I think the best decision I've ever made in my life is to have a baby.\n",
      "**********\n",
      "\n",
      "I made the best decision I've ever made while drunk.\n",
      "**********\n",
      "\n"
     ]
    }
   ],
   "source": [
    "print_samples(\"\"\"What is the best decision you've made while drunk?\"\"\")"
   ]
  },
  {
   "cell_type": "code",
   "execution_count": 18,
   "metadata": {},
   "outputs": [
    {
     "name": "stdout",
     "output_type": "stream",
     "text": [
      "I don’t drink.\n",
      "**********\n",
      "\n",
      "Don't be a dick.\n",
      "**********\n",
      "\n",
      "Don't be a dick.\n",
      "**********\n",
      "\n",
      "I’m not a fan of rules.\n",
      "**********\n",
      "\n",
      "Don't be a dick.\n",
      "**********\n",
      "\n"
     ]
    }
   ],
   "source": [
    "print_samples(\"\"\"What’s one rule you live by?\"\"\")"
   ]
  },
  {
   "cell_type": "code",
   "execution_count": null,
   "metadata": {},
   "outputs": [],
   "source": []
  },
  {
   "cell_type": "code",
   "execution_count": null,
   "metadata": {},
   "outputs": [],
   "source": []
  }
 ],
 "metadata": {
  "kernelspec": {
   "display_name": "Python 3",
   "language": "python",
   "name": "python3"
  },
  "language_info": {
   "codemirror_mode": {
    "name": "ipython",
    "version": 3
   },
   "file_extension": ".py",
   "mimetype": "text/x-python",
   "name": "python",
   "nbconvert_exporter": "python",
   "pygments_lexer": "ipython3",
   "version": "3.8.3"
  }
 },
 "nbformat": 4,
 "nbformat_minor": 4
}
